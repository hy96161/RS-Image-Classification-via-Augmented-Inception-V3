{
 "cells": [
  {
   "cell_type": "code",
   "execution_count": 1,
   "metadata": {
    "colab": {
     "base_uri": "https://localhost:8080/"
    },
    "executionInfo": {
     "elapsed": 9069,
     "status": "ok",
     "timestamp": 1615434620758,
     "user": {
      "displayName": "Yingjie Hu",
      "photoUrl": "https://lh3.googleusercontent.com/a-/AOh14GhQXNgYXyAZZlgqZjEhpeA47a8-StHEsk3hftJsYg=s64",
      "userId": "12178979804161638768"
     },
     "user_tz": 300
    },
    "id": "as2wF-16Z5Is",
    "outputId": "7ebc4c7c-d044-441b-a250-ab2efabf9fc8"
   },
   "outputs": [
    {
     "name": "stdout",
     "output_type": "stream",
     "text": [
      "--2021-03-11 03:50:12--  http://weegee.vision.ucmerced.edu/datasets/UCMerced_LandUse.zip\n",
      "Resolving weegee.vision.ucmerced.edu (weegee.vision.ucmerced.edu)... 169.236.184.65\n",
      "Connecting to weegee.vision.ucmerced.edu (weegee.vision.ucmerced.edu)|169.236.184.65|:80... connected.\n",
      "HTTP request sent, awaiting response... 200 OK\n",
      "Length: 332468434 (317M) [application/zip]\n",
      "Saving to: ‘UCMerced_LandUse.zip’\n",
      "\n",
      "UCMerced_LandUse.zi 100%[===================>] 317.07M  69.0MB/s    in 8.4s    \n",
      "\n",
      "2021-03-11 03:50:20 (37.9 MB/s) - ‘UCMerced_LandUse.zip’ saved [332468434/332468434]\n",
      "\n"
     ]
    }
   ],
   "source": [
    "# download UC Merced Landuse classification dataset\n",
    "!wget http://weegee.vision.ucmerced.edu/datasets/UCMerced_LandUse.zip"
   ]
  },
  {
   "cell_type": "code",
   "execution_count": 2,
   "metadata": {
    "executionInfo": {
     "elapsed": 6196,
     "status": "ok",
     "timestamp": 1615434633412,
     "user": {
      "displayName": "Yingjie Hu",
      "photoUrl": "https://lh3.googleusercontent.com/a-/AOh14GhQXNgYXyAZZlgqZjEhpeA47a8-StHEsk3hftJsYg=s64",
      "userId": "12178979804161638768"
     },
     "user_tz": 300
    },
    "id": "7ypWy_WRZ_Bi"
   },
   "outputs": [],
   "source": [
    "%%capture\n",
    "!unzip UCMerced_LandUse.zip"
   ]
  },
  {
   "cell_type": "code",
   "execution_count": 3,
   "metadata": {
    "executionInfo": {
     "elapsed": 1825,
     "status": "ok",
     "timestamp": 1615434640288,
     "user": {
      "displayName": "Yingjie Hu",
      "photoUrl": "https://lh3.googleusercontent.com/a-/AOh14GhQXNgYXyAZZlgqZjEhpeA47a8-StHEsk3hftJsYg=s64",
      "userId": "12178979804161638768"
     },
     "user_tz": 300
    },
    "id": "fcEtbL_CaDhy"
   },
   "outputs": [],
   "source": [
    "import numpy as np\n",
    "\n",
    "import torch\n",
    "import torch.nn as nn\n",
    "from torch.autograd  import Variable\n",
    "from torch.utils.data import DataLoader\n",
    "import torch.optim as optim # For all Optimization algorithms, SGD, Adam, etc.\n",
    "import torch.nn.functional as F # All functions that don't have any parameters"
   ]
  },
  {
   "cell_type": "code",
   "execution_count": 4,
   "metadata": {
    "executionInfo": {
     "elapsed": 11355,
     "status": "ok",
     "timestamp": 1615434670625,
     "user": {
      "displayName": "Yingjie Hu",
      "photoUrl": "https://lh3.googleusercontent.com/a-/AOh14GhQXNgYXyAZZlgqZjEhpeA47a8-StHEsk3hftJsYg=s64",
      "userId": "12178979804161638768"
     },
     "user_tz": 300
    },
    "id": "oZ4VZcNMaGRk"
   },
   "outputs": [],
   "source": [
    "# convert data from tif to jpg; the current tf dataset from images function does not support tif files\n",
    "import os\n",
    "from PIL import Image\n",
    "import glob\n",
    "\n",
    "path = '/content/UCMerced_LandUse/Images'\n",
    "for category in os.listdir(path):\n",
    "    for filename in glob.glob(os.path.join(path,category)+\"/*.tif\"):\n",
    "        im = Image.open(filename)\n",
    "        rgb_im = im.convert('RGB')\n",
    "        rgb_im.save(filename.replace(\"tif\", \"jpg\"), quality=100)\n",
    "        os.remove(filename)"
   ]
  },
  {
   "cell_type": "code",
   "execution_count": null,
   "metadata": {
    "id": "P1bzSd9gaLWC"
   },
   "outputs": [],
   "source": []
  }
 ],
 "metadata": {
  "colab": {
   "authorship_tag": "ABX9TyPvvM8ICwUrWUGiJuZJrbVR",
   "collapsed_sections": [],
   "name": "Data_Aug_Template.ipynb",
   "provenance": []
  },
  "kernelspec": {
   "display_name": "Python 3 (ipykernel)",
   "language": "python",
   "name": "python3"
  },
  "language_info": {
   "codemirror_mode": {
    "name": "ipython",
    "version": 3
   },
   "file_extension": ".py",
   "mimetype": "text/x-python",
   "name": "python",
   "nbconvert_exporter": "python",
   "pygments_lexer": "ipython3",
   "version": "3.9.12"
  }
 },
 "nbformat": 4,
 "nbformat_minor": 1
}
