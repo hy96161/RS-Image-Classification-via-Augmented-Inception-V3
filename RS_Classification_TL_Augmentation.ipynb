{
 "cells": [
  {
   "cell_type": "code",
   "execution_count": null,
   "metadata": {
    "colab": {
     "base_uri": "https://localhost:8080/"
    },
    "id": "Eibd7nMLPY6p",
    "outputId": "6f5fb309-0e09-4b8a-986b-485ade29c48e"
   },
   "outputs": [
    {
     "name": "stdout",
     "output_type": "stream",
     "text": [
      "--2024-04-04 20:42:39--  http://weegee.vision.ucmerced.edu/datasets/UCMerced_LandUse.zip\n",
      "Resolving weegee.vision.ucmerced.edu (weegee.vision.ucmerced.edu)... 169.236.184.65\n",
      "Connecting to weegee.vision.ucmerced.edu (weegee.vision.ucmerced.edu)|169.236.184.65|:80... connected.\n",
      "HTTP request sent, awaiting response... 200 OK\n",
      "Length: 332468434 (317M) [application/zip]\n",
      "Saving to: ‘UCMerced_LandUse.zip.3’\n",
      "\n",
      "UCMerced_LandUse.zi 100%[===================>] 317.07M  30.1MB/s    in 11s     \n",
      "\n",
      "2024-04-04 20:42:50 (28.9 MB/s) - ‘UCMerced_LandUse.zip.3’ saved [332468434/332468434]\n",
      "\n"
     ]
    }
   ],
   "source": [
    "# download UC Merced Landuse classification dataset\n",
    "!wget http://weegee.vision.ucmerced.edu/datasets/UCMerced_LandUse.zip"
   ]
  },
  {
   "cell_type": "code",
   "execution_count": 227,
   "metadata": {
    "id": "0keKNZ-VPwf0"
   },
   "outputs": [],
   "source": [
    "%%capture\n",
    "!unzip UCMerced_LandUse.zip"
   ]
  },
  {
   "cell_type": "code",
   "execution_count": 225,
   "metadata": {
    "id": "nQki0pUqP20B"
   },
   "outputs": [],
   "source": [
    "import numpy as np\n",
    "\n",
    "import torch\n",
    "import torch.nn as nn\n",
    "from torch.autograd  import Variable\n",
    "from torch.utils.data import DataLoader\n",
    "import torch.optim as optim # For all Optimization algorithms, SGD, Adam, etc.\n",
    "import torch.nn.functional as F # All functions that don't have any parameters\n",
    "import torchvision\n",
    "import torchvision.transforms as transforms\n",
    "import torchvision.models as models\n",
    "from sklearn.model_selection import train_test_split\n",
    "from collections import Counter"
   ]
  },
  {
   "cell_type": "markdown",
   "metadata": {
    "id": "Q6hGqRZE8r5l"
   },
   "source": [
    "# 1. Data Preparation"
   ]
  },
  {
   "cell_type": "code",
   "execution_count": 226,
   "metadata": {
    "colab": {
     "base_uri": "https://localhost:8080/",
     "height": 269
    },
    "id": "5KmeUXZIP_pn",
    "outputId": "483de341-37c9-4d26-d859-5b0cfbb26bc2"
   },
   "outputs": [
    {
     "ename": "KeyboardInterrupt",
     "evalue": "",
     "output_type": "error",
     "traceback": [
      "\u001b[0;31m---------------------------------------------------------------------------\u001b[0m",
      "\u001b[0;31mKeyboardInterrupt\u001b[0m                         Traceback (most recent call last)",
      "\u001b[0;32m<ipython-input-226-89a3522abd68>\u001b[0m in \u001b[0;36m<cell line: 8>\u001b[0;34m()\u001b[0m\n\u001b[1;32m      9\u001b[0m     \u001b[0;32mfor\u001b[0m \u001b[0mfilename\u001b[0m \u001b[0;32min\u001b[0m \u001b[0mglob\u001b[0m\u001b[0;34m.\u001b[0m\u001b[0mglob\u001b[0m\u001b[0;34m(\u001b[0m\u001b[0mos\u001b[0m\u001b[0;34m.\u001b[0m\u001b[0mpath\u001b[0m\u001b[0;34m.\u001b[0m\u001b[0mjoin\u001b[0m\u001b[0;34m(\u001b[0m\u001b[0mpath\u001b[0m\u001b[0;34m,\u001b[0m\u001b[0mcategory\u001b[0m\u001b[0;34m)\u001b[0m\u001b[0;34m+\u001b[0m\u001b[0;34m\"/*.tif\"\u001b[0m\u001b[0;34m)\u001b[0m\u001b[0;34m:\u001b[0m\u001b[0;34m\u001b[0m\u001b[0;34m\u001b[0m\u001b[0m\n\u001b[1;32m     10\u001b[0m         \u001b[0mim\u001b[0m \u001b[0;34m=\u001b[0m \u001b[0mImage\u001b[0m\u001b[0;34m.\u001b[0m\u001b[0mopen\u001b[0m\u001b[0;34m(\u001b[0m\u001b[0mfilename\u001b[0m\u001b[0;34m)\u001b[0m\u001b[0;34m\u001b[0m\u001b[0;34m\u001b[0m\u001b[0m\n\u001b[0;32m---> 11\u001b[0;31m         \u001b[0mim_resized\u001b[0m \u001b[0;34m=\u001b[0m \u001b[0mim\u001b[0m\u001b[0;34m.\u001b[0m\u001b[0mresize\u001b[0m\u001b[0;34m(\u001b[0m\u001b[0mtarget_size\u001b[0m\u001b[0;34m)\u001b[0m\u001b[0;34m\u001b[0m\u001b[0;34m\u001b[0m\u001b[0m\n\u001b[0m\u001b[1;32m     12\u001b[0m         \u001b[0mrgb_im\u001b[0m \u001b[0;34m=\u001b[0m \u001b[0mim_resized\u001b[0m\u001b[0;34m.\u001b[0m\u001b[0mconvert\u001b[0m\u001b[0;34m(\u001b[0m\u001b[0;34m'RGB'\u001b[0m\u001b[0;34m)\u001b[0m\u001b[0;34m\u001b[0m\u001b[0;34m\u001b[0m\u001b[0m\n\u001b[1;32m     13\u001b[0m         \u001b[0mrgb_im\u001b[0m\u001b[0;34m.\u001b[0m\u001b[0msave\u001b[0m\u001b[0;34m(\u001b[0m\u001b[0mfilename\u001b[0m\u001b[0;34m.\u001b[0m\u001b[0mreplace\u001b[0m\u001b[0;34m(\u001b[0m\u001b[0;34m\"tif\"\u001b[0m\u001b[0;34m,\u001b[0m \u001b[0;34m\"jpg\"\u001b[0m\u001b[0;34m)\u001b[0m\u001b[0;34m,\u001b[0m \u001b[0mquality\u001b[0m\u001b[0;34m=\u001b[0m\u001b[0;36m100\u001b[0m\u001b[0;34m)\u001b[0m\u001b[0;34m\u001b[0m\u001b[0;34m\u001b[0m\u001b[0m\n",
      "\u001b[0;32m/usr/local/lib/python3.10/dist-packages/PIL/Image.py\u001b[0m in \u001b[0;36mresize\u001b[0;34m(self, size, resample, box, reducing_gap)\u001b[0m\n\u001b[1;32m   2154\u001b[0m         \u001b[0msize\u001b[0m \u001b[0;34m=\u001b[0m \u001b[0mtuple\u001b[0m\u001b[0;34m(\u001b[0m\u001b[0msize\u001b[0m\u001b[0;34m)\u001b[0m\u001b[0;34m\u001b[0m\u001b[0;34m\u001b[0m\u001b[0m\n\u001b[1;32m   2155\u001b[0m \u001b[0;34m\u001b[0m\u001b[0m\n\u001b[0;32m-> 2156\u001b[0;31m         \u001b[0mself\u001b[0m\u001b[0;34m.\u001b[0m\u001b[0mload\u001b[0m\u001b[0;34m(\u001b[0m\u001b[0;34m)\u001b[0m\u001b[0;34m\u001b[0m\u001b[0;34m\u001b[0m\u001b[0m\n\u001b[0m\u001b[1;32m   2157\u001b[0m         \u001b[0;32mif\u001b[0m \u001b[0mbox\u001b[0m \u001b[0;32mis\u001b[0m \u001b[0;32mNone\u001b[0m\u001b[0;34m:\u001b[0m\u001b[0;34m\u001b[0m\u001b[0;34m\u001b[0m\u001b[0m\n\u001b[1;32m   2158\u001b[0m             \u001b[0mbox\u001b[0m \u001b[0;34m=\u001b[0m \u001b[0;34m(\u001b[0m\u001b[0;36m0\u001b[0m\u001b[0;34m,\u001b[0m \u001b[0;36m0\u001b[0m\u001b[0;34m)\u001b[0m \u001b[0;34m+\u001b[0m \u001b[0mself\u001b[0m\u001b[0;34m.\u001b[0m\u001b[0msize\u001b[0m\u001b[0;34m\u001b[0m\u001b[0;34m\u001b[0m\u001b[0m\n",
      "\u001b[0;32m/usr/local/lib/python3.10/dist-packages/PIL/TiffImagePlugin.py\u001b[0m in \u001b[0;36mload\u001b[0;34m(self)\u001b[0m\n\u001b[1;32m   1195\u001b[0m         \u001b[0;32mif\u001b[0m \u001b[0mself\u001b[0m\u001b[0;34m.\u001b[0m\u001b[0mtile\u001b[0m \u001b[0;32mand\u001b[0m \u001b[0mself\u001b[0m\u001b[0;34m.\u001b[0m\u001b[0muse_load_libtiff\u001b[0m\u001b[0;34m:\u001b[0m\u001b[0;34m\u001b[0m\u001b[0;34m\u001b[0m\u001b[0m\n\u001b[1;32m   1196\u001b[0m             \u001b[0;32mreturn\u001b[0m \u001b[0mself\u001b[0m\u001b[0;34m.\u001b[0m\u001b[0m_load_libtiff\u001b[0m\u001b[0;34m(\u001b[0m\u001b[0;34m)\u001b[0m\u001b[0;34m\u001b[0m\u001b[0;34m\u001b[0m\u001b[0m\n\u001b[0;32m-> 1197\u001b[0;31m         \u001b[0;32mreturn\u001b[0m \u001b[0msuper\u001b[0m\u001b[0;34m(\u001b[0m\u001b[0;34m)\u001b[0m\u001b[0;34m.\u001b[0m\u001b[0mload\u001b[0m\u001b[0;34m(\u001b[0m\u001b[0;34m)\u001b[0m\u001b[0;34m\u001b[0m\u001b[0;34m\u001b[0m\u001b[0m\n\u001b[0m\u001b[1;32m   1198\u001b[0m \u001b[0;34m\u001b[0m\u001b[0m\n\u001b[1;32m   1199\u001b[0m     \u001b[0;32mdef\u001b[0m \u001b[0mload_end\u001b[0m\u001b[0;34m(\u001b[0m\u001b[0mself\u001b[0m\u001b[0;34m)\u001b[0m\u001b[0;34m:\u001b[0m\u001b[0;34m\u001b[0m\u001b[0;34m\u001b[0m\u001b[0m\n",
      "\u001b[0;32m/usr/local/lib/python3.10/dist-packages/PIL/ImageFile.py\u001b[0m in \u001b[0;36mload\u001b[0;34m(self)\u001b[0m\n\u001b[1;32m    278\u001b[0m         \u001b[0mself\u001b[0m\u001b[0;34m.\u001b[0m\u001b[0mreadonly\u001b[0m \u001b[0;34m=\u001b[0m \u001b[0mreadonly\u001b[0m\u001b[0;34m\u001b[0m\u001b[0;34m\u001b[0m\u001b[0m\n\u001b[1;32m    279\u001b[0m \u001b[0;34m\u001b[0m\u001b[0m\n\u001b[0;32m--> 280\u001b[0;31m         \u001b[0mself\u001b[0m\u001b[0;34m.\u001b[0m\u001b[0mload_end\u001b[0m\u001b[0;34m(\u001b[0m\u001b[0;34m)\u001b[0m\u001b[0;34m\u001b[0m\u001b[0;34m\u001b[0m\u001b[0m\n\u001b[0m\u001b[1;32m    281\u001b[0m \u001b[0;34m\u001b[0m\u001b[0m\n\u001b[1;32m    282\u001b[0m         \u001b[0;32mif\u001b[0m \u001b[0mself\u001b[0m\u001b[0;34m.\u001b[0m\u001b[0m_exclusive_fp\u001b[0m \u001b[0;32mand\u001b[0m \u001b[0mself\u001b[0m\u001b[0;34m.\u001b[0m\u001b[0m_close_exclusive_fp_after_loading\u001b[0m\u001b[0;34m:\u001b[0m\u001b[0;34m\u001b[0m\u001b[0;34m\u001b[0m\u001b[0m\n",
      "\u001b[0;32m/usr/local/lib/python3.10/dist-packages/PIL/TiffImagePlugin.py\u001b[0m in \u001b[0;36mload_end\u001b[0;34m(self)\u001b[0m\n\u001b[1;32m   1222\u001b[0m \u001b[0;34m\u001b[0m\u001b[0m\n\u001b[1;32m   1223\u001b[0m             \u001b[0;31m# load IFD data from fp before it is closed\u001b[0m\u001b[0;34m\u001b[0m\u001b[0;34m\u001b[0m\u001b[0m\n\u001b[0;32m-> 1224\u001b[0;31m             \u001b[0mexif\u001b[0m \u001b[0;34m=\u001b[0m \u001b[0mself\u001b[0m\u001b[0;34m.\u001b[0m\u001b[0mgetexif\u001b[0m\u001b[0;34m(\u001b[0m\u001b[0;34m)\u001b[0m\u001b[0;34m\u001b[0m\u001b[0;34m\u001b[0m\u001b[0m\n\u001b[0m\u001b[1;32m   1225\u001b[0m             \u001b[0;32mfor\u001b[0m \u001b[0mkey\u001b[0m \u001b[0;32min\u001b[0m \u001b[0mTiffTags\u001b[0m\u001b[0;34m.\u001b[0m\u001b[0mTAGS_V2_GROUPS\u001b[0m\u001b[0;34m.\u001b[0m\u001b[0mkeys\u001b[0m\u001b[0;34m(\u001b[0m\u001b[0;34m)\u001b[0m\u001b[0;34m:\u001b[0m\u001b[0;34m\u001b[0m\u001b[0;34m\u001b[0m\u001b[0m\n\u001b[1;32m   1226\u001b[0m                 \u001b[0;32mif\u001b[0m \u001b[0mkey\u001b[0m \u001b[0;32mnot\u001b[0m \u001b[0;32min\u001b[0m \u001b[0mexif\u001b[0m\u001b[0;34m:\u001b[0m\u001b[0;34m\u001b[0m\u001b[0;34m\u001b[0m\u001b[0m\n",
      "\u001b[0;32m/usr/local/lib/python3.10/dist-packages/PIL/Image.py\u001b[0m in \u001b[0;36mgetexif\u001b[0;34m(self)\u001b[0m\n\u001b[1;32m   1450\u001b[0m                 \u001b[0mself\u001b[0m\u001b[0;34m.\u001b[0m\u001b[0m_exif\u001b[0m\u001b[0;34m.\u001b[0m\u001b[0mbigtiff\u001b[0m \u001b[0;34m=\u001b[0m \u001b[0mself\u001b[0m\u001b[0;34m.\u001b[0m\u001b[0mtag_v2\u001b[0m\u001b[0;34m.\u001b[0m\u001b[0m_bigtiff\u001b[0m\u001b[0;34m\u001b[0m\u001b[0;34m\u001b[0m\u001b[0m\n\u001b[1;32m   1451\u001b[0m                 \u001b[0mself\u001b[0m\u001b[0;34m.\u001b[0m\u001b[0m_exif\u001b[0m\u001b[0;34m.\u001b[0m\u001b[0mendian\u001b[0m \u001b[0;34m=\u001b[0m \u001b[0mself\u001b[0m\u001b[0;34m.\u001b[0m\u001b[0mtag_v2\u001b[0m\u001b[0;34m.\u001b[0m\u001b[0m_endian\u001b[0m\u001b[0;34m\u001b[0m\u001b[0;34m\u001b[0m\u001b[0m\n\u001b[0;32m-> 1452\u001b[0;31m                 \u001b[0mself\u001b[0m\u001b[0;34m.\u001b[0m\u001b[0m_exif\u001b[0m\u001b[0;34m.\u001b[0m\u001b[0mload_from_fp\u001b[0m\u001b[0;34m(\u001b[0m\u001b[0mself\u001b[0m\u001b[0;34m.\u001b[0m\u001b[0mfp\u001b[0m\u001b[0;34m,\u001b[0m \u001b[0mself\u001b[0m\u001b[0;34m.\u001b[0m\u001b[0mtag_v2\u001b[0m\u001b[0;34m.\u001b[0m\u001b[0m_offset\u001b[0m\u001b[0;34m)\u001b[0m\u001b[0;34m\u001b[0m\u001b[0;34m\u001b[0m\u001b[0m\n\u001b[0m\u001b[1;32m   1453\u001b[0m         \u001b[0;32mif\u001b[0m \u001b[0mexif_info\u001b[0m \u001b[0;32mis\u001b[0m \u001b[0;32mnot\u001b[0m \u001b[0;32mNone\u001b[0m\u001b[0;34m:\u001b[0m\u001b[0;34m\u001b[0m\u001b[0;34m\u001b[0m\u001b[0m\n\u001b[1;32m   1454\u001b[0m             \u001b[0mself\u001b[0m\u001b[0;34m.\u001b[0m\u001b[0m_exif\u001b[0m\u001b[0;34m.\u001b[0m\u001b[0mload\u001b[0m\u001b[0;34m(\u001b[0m\u001b[0mexif_info\u001b[0m\u001b[0;34m)\u001b[0m\u001b[0;34m\u001b[0m\u001b[0;34m\u001b[0m\u001b[0m\n",
      "\u001b[0;32m/usr/local/lib/python3.10/dist-packages/PIL/Image.py\u001b[0m in \u001b[0;36mload_from_fp\u001b[0;34m(self, fp, offset)\u001b[0m\n\u001b[1;32m   3680\u001b[0m \u001b[0;34m\u001b[0m\u001b[0m\n\u001b[1;32m   3681\u001b[0m         \u001b[0;31m# process dictionary\u001b[0m\u001b[0;34m\u001b[0m\u001b[0;34m\u001b[0m\u001b[0m\n\u001b[0;32m-> 3682\u001b[0;31m         \u001b[0;32mfrom\u001b[0m \u001b[0;34m.\u001b[0m \u001b[0;32mimport\u001b[0m \u001b[0mTiffImagePlugin\u001b[0m\u001b[0;34m\u001b[0m\u001b[0;34m\u001b[0m\u001b[0m\n\u001b[0m\u001b[1;32m   3683\u001b[0m \u001b[0;34m\u001b[0m\u001b[0m\n\u001b[1;32m   3684\u001b[0m         \u001b[0mself\u001b[0m\u001b[0;34m.\u001b[0m\u001b[0mfp\u001b[0m \u001b[0;34m=\u001b[0m \u001b[0mfp\u001b[0m\u001b[0;34m\u001b[0m\u001b[0;34m\u001b[0m\u001b[0m\n",
      "\u001b[0;32m/usr/lib/python3.10/importlib/_bootstrap.py\u001b[0m in \u001b[0;36m_handle_fromlist\u001b[0;34m(module, fromlist, import_, recursive)\u001b[0m\n",
      "\u001b[0;31mKeyboardInterrupt\u001b[0m: "
     ]
    }
   ],
   "source": [
    "# convert data from tif to jpg; the current tf dataset from images function does not support tif files\n",
    "import os\n",
    "from PIL import Image\n",
    "import glob\n",
    "\n",
    "target_size = (96,96)\n",
    "path = '/content/UCMerced_LandUse/Images'\n",
    "for category in os.listdir(path):\n",
    "    for filename in glob.glob(os.path.join(path,category)+\"/*.tif\"):\n",
    "        im = Image.open(filename)\n",
    "        im_resized = im.resize(target_size)\n",
    "        rgb_im = im_resized.convert('RGB')\n",
    "        rgb_im.save(filename.replace(\"tif\", \"jpg\"), quality=100)\n",
    "        os.remove(filename)\n",
    "\n"
   ]
  },
  {
   "cell_type": "code",
   "execution_count": null,
   "metadata": {
    "id": "ojVjDNXiQQXp"
   },
   "outputs": [],
   "source": [
    "img_dir = '/content/UCMerced_LandUse/Images'\n",
    "dataset = torchvision.datasets.ImageFolder(root = img_dir,\n",
    "                                           transform = transforms.ToTensor(),\n",
    "                                           loader = Image.open)"
   ]
  },
  {
   "cell_type": "code",
   "execution_count": null,
   "metadata": {
    "id": "CmKiWyEuUbp7"
   },
   "outputs": [],
   "source": [
    "args = {\n",
    "    'lr': 0.0001,\n",
    "    'device': 'cpu',\n",
    "    'epochs': 10,\n",
    "    'batch_size': 20\n",
    "}\n"
   ]
  },
  {
   "cell_type": "code",
   "execution_count": null,
   "metadata": {
    "id": "oXLOUh-wV5Vs"
   },
   "outputs": [],
   "source": [
    "batch_size = args['batch_size']\n",
    "dataloader = torch.utils.data.DataLoader(dataset, batch_size=batch_size,\n",
    "                                          shuffle=True, num_workers=0)\n"
   ]
  },
  {
   "cell_type": "code",
   "execution_count": null,
   "metadata": {
    "colab": {
     "base_uri": "https://localhost:8080/"
    },
    "id": "yh7fpXUdXHPQ",
    "outputId": "a7de0555-a4cd-4e65-b616-558489c12b9d"
   },
   "outputs": [
    {
     "data": {
      "text/plain": [
       "21"
      ]
     },
     "execution_count": 198,
     "metadata": {},
     "output_type": "execute_result"
    }
   ],
   "source": [
    "num_classes = len(np.unique(dataset.targets))\n",
    "num_classes"
   ]
  },
  {
   "cell_type": "markdown",
   "metadata": {
    "id": "wskapkCg8gnm"
   },
   "source": [
    "# 2.Train and Test Splitting (images plot)"
   ]
  },
  {
   "cell_type": "code",
   "execution_count": null,
   "metadata": {
    "id": "KHahhThebzBN"
   },
   "outputs": [],
   "source": [
    "###train test split\n",
    "train_idxs, test_idxs = train_test_split(np.arange(len(dataset.targets)),test_size=0.2, stratify=dataset.targets)"
   ]
  },
  {
   "cell_type": "code",
   "execution_count": null,
   "metadata": {
    "colab": {
     "base_uri": "https://localhost:8080/"
    },
    "id": "_6phmpoBb_7V",
    "outputId": "67210c50-db77-47f2-e7fe-0efeb6301c0e"
   },
   "outputs": [
    {
     "data": {
      "text/plain": [
       "Counter({'20': 80,\n",
       "         '7': 80,\n",
       "         '16': 80,\n",
       "         '9': 80,\n",
       "         '5': 80,\n",
       "         '6': 80,\n",
       "         '14': 80,\n",
       "         '1': 80,\n",
       "         '17': 80,\n",
       "         '13': 80,\n",
       "         '8': 80,\n",
       "         '10': 80,\n",
       "         '2': 80,\n",
       "         '18': 80,\n",
       "         '3': 80,\n",
       "         '15': 80,\n",
       "         '0': 80,\n",
       "         '12': 80,\n",
       "         '4': 80,\n",
       "         '19': 80,\n",
       "         '11': 80})"
      ]
     },
     "execution_count": 200,
     "metadata": {},
     "output_type": "execute_result"
    }
   ],
   "source": [
    "Counter([x[1] for x in np.array(dataset.imgs)[train_idxs]])"
   ]
  },
  {
   "cell_type": "code",
   "execution_count": null,
   "metadata": {
    "colab": {
     "base_uri": "https://localhost:8080/",
     "height": 190
    },
    "id": "JeiR6gjTfsKy",
    "outputId": "407374a7-5052-4920-86a6-45b005f871e3"
   },
   "outputs": [
    {
     "data": {
      "image/png": "[encoded data removed]",
      "text/plain": [
       "<Figure size 640x480 with 1 Axes>"
      ]
     },
     "metadata": {},
     "output_type": "display_data"
    }
   ],
   "source": [
    "###plot 9 images for illustration\n",
    "import matplotlib.pyplot as plt\n",
    "import numpy as np\n",
    "import random\n",
    "\n",
    "def imshow(img):\n",
    "    npimg = img.numpy()\n",
    "    plt.imshow(np.transpose(npimg, (1, 2, 0)))\n",
    "    plt.show()\n",
    "\n",
    "dataiter = iter(dataloader)\n",
    "images, labels = next(dataiter)\n",
    "\n",
    "imshow(torchvision.utils.make_grid(images[:9]))"
   ]
  },
  {
   "cell_type": "code",
   "execution_count": null,
   "metadata": {
    "colab": {
     "base_uri": "https://localhost:8080/"
    },
    "id": "eDel0egYqJN6",
    "outputId": "cf64c517-f532-4cf7-b3e6-fa0fade8fea7"
   },
   "outputs": [
    {
     "data": {
      "text/plain": [
       "torch.Size([20, 3, 96, 96])"
      ]
     },
     "execution_count": 201,
     "metadata": {},
     "output_type": "execute_result"
    }
   ],
   "source": [
    "_, _, H, W = images.shape\n",
    "images.shape"
   ]
  },
  {
   "cell_type": "code",
   "execution_count": null,
   "metadata": {
    "id": "79DRgM8Wsg_-"
   },
   "outputs": [],
   "source": [
    "###define the imagedataset class\n",
    "class ImageDataset(torch.utils.data.Dataset):\n",
    "\n",
    "    def __init__(self, dataset = None, sample_idxs = None, transform = None):\n",
    "\n",
    "        # self.dataset = dataset\n",
    "        self.sample_idxs = sample_idxs\n",
    "        self.root = dataset.root\n",
    "        self.data = np.array(dataset.imgs)[sample_idxs]\n",
    "        self.targets = np.array(dataset.targets)[sample_idxs]\n",
    "        self.transform = transform\n",
    "        self.extensions = dataset.extensions\n",
    "        self.class_to_idx = dataset.class_to_idx\n",
    "\n",
    "    def __len__(self):\n",
    "        return len(self.data)\n",
    "\n",
    "    def __getitem__(self, idx):\n",
    "        file, target_str = self.data[idx]\n",
    "        target = self.targets[idx]\n",
    "        assert target - int(target_str) == 0\n",
    "        image = Image.open(file)\n",
    "        if self.transform:\n",
    "            image = self.transform(image)\n",
    "\n",
    "        return image, target"
   ]
  },
  {
   "cell_type": "markdown",
   "metadata": {
    "id": "rUvS87Qf8WSK"
   },
   "source": [
    "# 3.Data Augmentation"
   ]
  },
  {
   "cell_type": "code",
   "execution_count": null,
   "metadata": {
    "id": "yiVVMTCYuNt-"
   },
   "outputs": [],
   "source": [
    "### data augmentation\n",
    "mean = [0.485, 0.456, 0.406]\n",
    "std = [0.229, 0.224, 0.225]\n",
    "\n",
    "train_transform = transforms.Compose([\n",
    "\n",
    "    transforms.RandomCrop(96), #Randomly crops the resized images\n",
    "    transforms.RandomHorizontalFlip(p=0.5), #Randomly flips the images horizontally with a probability of 0.5\n",
    "    transforms.RandomVerticalFlip(p=0.5),#Randomly flips the images vertically with a probability of 0.5\n",
    "    transforms.RandomRotation(30),#Randomly rotates the images (-30-- 30) with a probability of 0.5\n",
    "    transforms.ToTensor(),\n",
    "    transforms.Normalize(mean, std)\n",
    "])\n",
    "test_transform = transforms.Compose([\n",
    "\n",
    "    transforms.CenterCrop(96),\n",
    "    transforms.ToTensor(),\n",
    "    transforms.Normalize(mean, std)\n",
    "])"
   ]
  },
  {
   "cell_type": "code",
   "execution_count": null,
   "metadata": {
    "id": "npEc61LS3xQM"
   },
   "outputs": [],
   "source": [
    "### train test data loader\n",
    "train_set = ImageDataset(dataset, sample_idxs = train_idxs, transform = train_transform)\n",
    "trainloader = torch.utils.data.DataLoader(train_set, batch_size=batch_size,\n",
    "                                          shuffle=True, num_workers=0)\n",
    "\n",
    "test_set = ImageDataset(dataset, sample_idxs = test_idxs, transform = test_transform)\n",
    "testloader = torch.utils.data.DataLoader(test_set, batch_size=batch_size,\n",
    "                                         shuffle=False, num_workers=0)"
   ]
  },
  {
   "cell_type": "markdown",
   "metadata": {
    "id": "IUYuGqwu72Km"
   },
   "source": [
    "# 4.CNN"
   ]
  },
  {
   "cell_type": "code",
   "execution_count": null,
   "metadata": {
    "id": "CMt4Ra2q309w"
   },
   "outputs": [],
   "source": [
    "\n",
    "import torch.nn as nn\n",
    "import torch.nn.functional as F\n",
    "\n",
    "\n",
    "class Net(nn.Module):\n",
    "    def __init__(self, in_dim = 3, out_classes = 21):\n",
    "        super().__init__()\n",
    "\n",
    "        self.in_dim = in_dim\n",
    "        self.out_classes = out_classes\n",
    "\n",
    "        self.conv1 = nn.Conv2d(in_channels = 3, out_channels = 6, kernel_size = 5, padding = 1)\n",
    "        self.pool1 = nn.MaxPool2d(kernel_size = 2, stride = 2)\n",
    "        self.conv2 = nn.Conv2d(in_channels = 6, out_channels = 16, kernel_size = 5, padding = 1)\n",
    "        self.pool2 = nn.MaxPool2d(kernel_size = 3, stride = 3)\n",
    "        self.conv3 = nn.Conv2d(in_channels = 16, out_channels = 20, kernel_size = 6)\n",
    "        self.pool3 = nn.MaxPool2d(kernel_size = 2, stride = 2)\n",
    "        self.fc1 = nn.Linear(in_features = 20 * 5 * 5, out_features = 120)\n",
    "        self.fc2 = nn.Linear(in_features = 120, out_features = 84)\n",
    "        self.fc3 = nn.Linear(in_features = 84, out_features = out_classes)\n",
    "\n",
    "    def forward(self, x):\n",
    "        '''\n",
    "        Args:\n",
    "            x: shape (B, C = 3, H = 96, W = 96)\n",
    "        '''\n",
    "        # Padding = 1, Stride = 1, Dilation = 1\n",
    "        # H and W: (96 + 2*1 - 1*(5-1) -1)/1 +1 = 94\n",
    "        # x: shape (B, 6, 94, 94)\n",
    "        x = F.relu(self.conv1(x))\n",
    "        # padding=0,stride =2\n",
    "        # H and W: (94 + 2*0 - 1*(2-1) -1)/2 +1 = 47\n",
    "        # x: shape (B, 6, 47, 47)\n",
    "        x = self.pool1(x)\n",
    "        # H and W: (47 + 2*1 - 1*(5-1) -1)/1 +1 = 45\n",
    "        # x: shape (B, 16, 45, 45)\n",
    "        x = F.relu(self.conv2(x))\n",
    "        # H and W: (45 + 2*0 - 1*(3-1) -1)/3 +1 = 15\n",
    "        # x: shape (B, 16, 15, 15)\n",
    "        x = self.pool2(x)\n",
    "        # H and W: (15 + 2*1 - 1*(6-1) -1)/1 +1 = 10\n",
    "        # x: shape (B, 20, 10, 10)\n",
    "        x = F.relu(self.conv3(x))\n",
    "        # x: shape (B,20, 5, 5)\n",
    "        x = self.pool3(x)\n",
    "        # x: shape (B, 20 * 5 * 5)\n",
    "        x = torch.flatten(x, 1) # flatten all dimensions except batch\n",
    "        # x: shape (B, 120)\n",
    "        x = F.relu(self.fc1(x))\n",
    "        # x: shape (B, 84)\n",
    "        x = F.relu(self.fc2(x))\n",
    "        # x: shape (B, 10)\n",
    "        x = self.fc3(x)\n",
    "        return x\n",
    "\n",
    "\n",
    "net = Net()"
   ]
  },
  {
   "cell_type": "code",
   "execution_count": null,
   "metadata": {
    "colab": {
     "base_uri": "https://localhost:8080/"
    },
    "id": "1_0GLaXL8zEx",
    "outputId": "9b6821a3-5188-4c49-882a-b1dcf7c06223"
   },
   "outputs": [
    {
     "data": {
      "text/plain": [
       "Net(\n",
       "  (conv1): Conv2d(3, 6, kernel_size=(5, 5), stride=(1, 1), padding=(1, 1))\n",
       "  (pool1): MaxPool2d(kernel_size=2, stride=2, padding=0, dilation=1, ceil_mode=False)\n",
       "  (conv2): Conv2d(6, 16, kernel_size=(5, 5), stride=(1, 1), padding=(1, 1))\n",
       "  (pool2): MaxPool2d(kernel_size=3, stride=3, padding=0, dilation=1, ceil_mode=False)\n",
       "  (conv3): Conv2d(16, 20, kernel_size=(6, 6), stride=(1, 1))\n",
       "  (pool3): MaxPool2d(kernel_size=2, stride=2, padding=0, dilation=1, ceil_mode=False)\n",
       "  (fc1): Linear(in_features=500, out_features=120, bias=True)\n",
       "  (fc2): Linear(in_features=120, out_features=84, bias=True)\n",
       "  (fc3): Linear(in_features=84, out_features=21, bias=True)\n",
       ")"
      ]
     },
     "execution_count": 52,
     "metadata": {},
     "output_type": "execute_result"
    }
   ],
   "source": [
    "net\n"
   ]
  },
  {
   "cell_type": "code",
   "execution_count": null,
   "metadata": {
    "id": "4NPi1IlBIv_6"
   },
   "outputs": [],
   "source": [
    "### Define a loss function and the optimizer\n",
    "import torch.optim as optim\n",
    "\n",
    "criterion = nn.CrossEntropyLoss()\n",
    "optimizer = optim.Adam(net.parameters(), lr=0.00001)"
   ]
  },
  {
   "cell_type": "code",
   "execution_count": null,
   "metadata": {
    "colab": {
     "base_uri": "https://localhost:8080/"
    },
    "id": "-DTNd6tnJGRJ",
    "outputId": "5bf60150-c5ae-498c-9662-6223a9483b0b"
   },
   "outputs": [
    {
     "name": "stdout",
     "output_type": "stream",
     "text": [
      "Epoch [1/3], Batch [0/84], Loss: 1.25907063\n",
      "Epoch [1/3], Batch [1/84], Loss: 1.41570830\n",
      "Epoch [1/3], Batch [2/84], Loss: 2.03652120\n",
      "Epoch [1/3], Batch [3/84], Loss: 1.45201242\n",
      "Epoch [1/3], Batch [4/84], Loss: 1.06928337\n",
      "Epoch [1/3], Batch [5/84], Loss: 0.98195189\n",
      "Epoch [1/3], Batch [6/84], Loss: 1.39183855\n",
      "Epoch [1/3], Batch [7/84], Loss: 1.67939723\n",
      "Epoch [1/3], Batch [8/84], Loss: 1.21232772\n",
      "Epoch [1/3], Batch [9/84], Loss: 1.18004477\n",
      "Epoch [1/3], Batch [10/84], Loss: 1.35209131\n",
      "Epoch [1/3], Batch [11/84], Loss: 1.33105993\n",
      "Epoch [1/3], Batch [12/84], Loss: 1.66039824\n",
      "Epoch [1/3], Batch [13/84], Loss: 1.10077548\n",
      "Epoch [1/3], Batch [14/84], Loss: 1.50758994\n",
      "Epoch [1/3], Batch [15/84], Loss: 1.29172289\n",
      "Epoch [1/3], Batch [16/84], Loss: 1.70603371\n",
      "Epoch [1/3], Batch [17/84], Loss: 1.56728709\n",
      "Epoch [1/3], Batch [18/84], Loss: 1.38226950\n",
      "Epoch [1/3], Batch [19/84], Loss: 1.83632851\n",
      "Epoch [1/3], Batch [20/84], Loss: 1.15614104\n",
      "Epoch [1/3], Batch [21/84], Loss: 1.56809568\n",
      "Epoch [1/3], Batch [22/84], Loss: 1.57100213\n",
      "Epoch [1/3], Batch [23/84], Loss: 1.81001091\n",
      "Epoch [1/3], Batch [24/84], Loss: 1.01702702\n",
      "Epoch [1/3], Batch [25/84], Loss: 1.44924903\n",
      "Epoch [1/3], Batch [26/84], Loss: 1.14051843\n",
      "Epoch [1/3], Batch [27/84], Loss: 1.14867187\n",
      "Epoch [1/3], Batch [28/84], Loss: 1.58196044\n",
      "Epoch [1/3], Batch [29/84], Loss: 1.32685769\n",
      "Epoch [1/3], Batch [30/84], Loss: 1.09403813\n",
      "Epoch [1/3], Batch [31/84], Loss: 1.13694513\n",
      "Epoch [1/3], Batch [32/84], Loss: 1.32938457\n",
      "Epoch [1/3], Batch [33/84], Loss: 0.92455351\n",
      "Epoch [1/3], Batch [34/84], Loss: 2.01366115\n",
      "Epoch [1/3], Batch [35/84], Loss: 1.38656235\n",
      "Epoch [1/3], Batch [36/84], Loss: 1.37832081\n",
      "Epoch [1/3], Batch [37/84], Loss: 1.30547214\n",
      "Epoch [1/3], Batch [38/84], Loss: 1.64027500\n",
      "Epoch [1/3], Batch [39/84], Loss: 0.96066058\n",
      "Epoch [1/3], Batch [40/84], Loss: 1.48835409\n",
      "Epoch [1/3], Batch [41/84], Loss: 1.62083912\n",
      "Epoch [1/3], Batch [42/84], Loss: 1.43766272\n",
      "Epoch [1/3], Batch [43/84], Loss: 1.57743740\n",
      "Epoch [1/3], Batch [44/84], Loss: 1.26537824\n",
      "Epoch [1/3], Batch [45/84], Loss: 1.45955372\n",
      "Epoch [1/3], Batch [46/84], Loss: 1.48650956\n",
      "Epoch [1/3], Batch [47/84], Loss: 1.40568149\n",
      "Epoch [1/3], Batch [48/84], Loss: 1.13991857\n",
      "Epoch [1/3], Batch [49/84], Loss: 1.08585858\n",
      "Epoch [1/3], Batch [50/84], Loss: 1.52217555\n",
      "Epoch [1/3], Batch [51/84], Loss: 1.23044610\n",
      "Epoch [1/3], Batch [52/84], Loss: 1.30078435\n",
      "Epoch [1/3], Batch [53/84], Loss: 1.41008341\n",
      "Epoch [1/3], Batch [54/84], Loss: 1.08859670\n",
      "Epoch [1/3], Batch [55/84], Loss: 1.46128178\n",
      "Epoch [1/3], Batch [56/84], Loss: 1.41138077\n",
      "Epoch [1/3], Batch [57/84], Loss: 1.21168756\n",
      "Epoch [1/3], Batch [58/84], Loss: 1.33337057\n",
      "Epoch [1/3], Batch [59/84], Loss: 1.45541584\n",
      "Epoch [1/3], Batch [60/84], Loss: 1.01956344\n",
      "Epoch [1/3], Batch [61/84], Loss: 1.32036126\n",
      "Epoch [1/3], Batch [62/84], Loss: 1.38356113\n",
      "Epoch [1/3], Batch [63/84], Loss: 1.18500829\n",
      "Epoch [1/3], Batch [64/84], Loss: 1.26164877\n",
      "Epoch [1/3], Batch [65/84], Loss: 1.56330800\n",
      "Epoch [1/3], Batch [66/84], Loss: 1.21400797\n",
      "Epoch [1/3], Batch [67/84], Loss: 2.13019919\n",
      "Epoch [1/3], Batch [68/84], Loss: 1.16572309\n",
      "Epoch [1/3], Batch [69/84], Loss: 1.46564686\n",
      "Epoch [1/3], Batch [70/84], Loss: 1.32721210\n",
      "Epoch [1/3], Batch [71/84], Loss: 1.46710801\n",
      "Epoch [1/3], Batch [72/84], Loss: 1.54821801\n",
      "Epoch [1/3], Batch [73/84], Loss: 1.52910590\n",
      "Epoch [1/3], Batch [74/84], Loss: 1.62029874\n",
      "Epoch [1/3], Batch [75/84], Loss: 1.18216562\n",
      "Epoch [1/3], Batch [76/84], Loss: 1.48689342\n",
      "Epoch [1/3], Batch [77/84], Loss: 1.60573578\n",
      "Epoch [1/3], Batch [78/84], Loss: 1.31417918\n",
      "Epoch [1/3], Batch [79/84], Loss: 1.17579436\n",
      "Epoch [1/3], Batch [80/84], Loss: 1.39553428\n",
      "Epoch [1/3], Batch [81/84], Loss: 1.12111127\n",
      "Epoch [1/3], Batch [82/84], Loss: 1.06442082\n",
      "Epoch [1/3], Batch [83/84], Loss: 1.26954150\n",
      "Epoch [2/3], Batch [0/84], Loss: 1.48291135\n",
      "Epoch [2/3], Batch [1/84], Loss: 1.55532801\n",
      "Epoch [2/3], Batch [2/84], Loss: 1.34460914\n",
      "Epoch [2/3], Batch [3/84], Loss: 1.22846878\n",
      "Epoch [2/3], Batch [4/84], Loss: 1.44439483\n",
      "Epoch [2/3], Batch [5/84], Loss: 1.18402731\n",
      "Epoch [2/3], Batch [6/84], Loss: 1.40372491\n",
      "Epoch [2/3], Batch [7/84], Loss: 1.24834216\n",
      "Epoch [2/3], Batch [8/84], Loss: 1.15287590\n",
      "Epoch [2/3], Batch [9/84], Loss: 1.05017722\n",
      "Epoch [2/3], Batch [10/84], Loss: 1.67110181\n",
      "Epoch [2/3], Batch [11/84], Loss: 1.11450374\n",
      "Epoch [2/3], Batch [12/84], Loss: 1.42438340\n",
      "Epoch [2/3], Batch [13/84], Loss: 1.87928367\n",
      "Epoch [2/3], Batch [14/84], Loss: 1.82333660\n",
      "Epoch [2/3], Batch [15/84], Loss: 1.09191966\n",
      "Epoch [2/3], Batch [16/84], Loss: 1.14505959\n",
      "Epoch [2/3], Batch [17/84], Loss: 1.61528873\n",
      "Epoch [2/3], Batch [18/84], Loss: 1.07811356\n",
      "Epoch [2/3], Batch [19/84], Loss: 1.96873784\n",
      "Epoch [2/3], Batch [20/84], Loss: 0.88091028\n",
      "Epoch [2/3], Batch [21/84], Loss: 1.09227991\n",
      "Epoch [2/3], Batch [22/84], Loss: 1.07231212\n",
      "Epoch [2/3], Batch [23/84], Loss: 1.20427275\n",
      "Epoch [2/3], Batch [24/84], Loss: 1.41438162\n",
      "Epoch [2/3], Batch [25/84], Loss: 1.43579829\n",
      "Epoch [2/3], Batch [26/84], Loss: 1.51071644\n",
      "Epoch [2/3], Batch [27/84], Loss: 1.46359956\n",
      "Epoch [2/3], Batch [28/84], Loss: 1.70782220\n",
      "Epoch [2/3], Batch [29/84], Loss: 1.36995459\n",
      "Epoch [2/3], Batch [30/84], Loss: 1.17492652\n",
      "Epoch [2/3], Batch [31/84], Loss: 1.78305817\n",
      "Epoch [2/3], Batch [32/84], Loss: 1.30317998\n",
      "Epoch [2/3], Batch [33/84], Loss: 1.36811185\n",
      "Epoch [2/3], Batch [34/84], Loss: 1.47767866\n",
      "Epoch [2/3], Batch [35/84], Loss: 1.19304633\n",
      "Epoch [2/3], Batch [36/84], Loss: 1.18544698\n",
      "Epoch [2/3], Batch [37/84], Loss: 1.76429439\n",
      "Epoch [2/3], Batch [38/84], Loss: 1.47642934\n",
      "Epoch [2/3], Batch [39/84], Loss: 1.23196065\n",
      "Epoch [2/3], Batch [40/84], Loss: 1.34170270\n",
      "Epoch [2/3], Batch [41/84], Loss: 1.18617654\n",
      "Epoch [2/3], Batch [42/84], Loss: 1.50655091\n",
      "Epoch [2/3], Batch [43/84], Loss: 1.48364174\n",
      "Epoch [2/3], Batch [44/84], Loss: 1.28169441\n",
      "Epoch [2/3], Batch [45/84], Loss: 1.28156364\n",
      "Epoch [2/3], Batch [46/84], Loss: 0.96919316\n",
      "Epoch [2/3], Batch [47/84], Loss: 2.02518272\n",
      "Epoch [2/3], Batch [48/84], Loss: 1.44343209\n",
      "Epoch [2/3], Batch [49/84], Loss: 1.45627332\n",
      "Epoch [2/3], Batch [50/84], Loss: 1.56152523\n",
      "Epoch [2/3], Batch [51/84], Loss: 1.29225898\n",
      "Epoch [2/3], Batch [52/84], Loss: 1.48550427\n",
      "Epoch [2/3], Batch [53/84], Loss: 1.48630786\n",
      "Epoch [2/3], Batch [54/84], Loss: 1.06418443\n",
      "Epoch [2/3], Batch [55/84], Loss: 2.16666245\n",
      "Epoch [2/3], Batch [56/84], Loss: 1.41544342\n",
      "Epoch [2/3], Batch [57/84], Loss: 1.62621057\n",
      "Epoch [2/3], Batch [58/84], Loss: 1.27254128\n",
      "Epoch [2/3], Batch [59/84], Loss: 1.43326926\n",
      "Epoch [2/3], Batch [60/84], Loss: 1.41035581\n",
      "Epoch [2/3], Batch [61/84], Loss: 1.40321338\n",
      "Epoch [2/3], Batch [62/84], Loss: 1.18480611\n",
      "Epoch [2/3], Batch [63/84], Loss: 1.41469157\n",
      "Epoch [2/3], Batch [64/84], Loss: 1.19792295\n",
      "Epoch [2/3], Batch [65/84], Loss: 1.08612251\n",
      "Epoch [2/3], Batch [66/84], Loss: 1.51784992\n",
      "Epoch [2/3], Batch [67/84], Loss: 1.08092725\n",
      "Epoch [2/3], Batch [68/84], Loss: 1.63517165\n",
      "Epoch [2/3], Batch [69/84], Loss: 1.22720647\n",
      "Epoch [2/3], Batch [70/84], Loss: 1.03017128\n",
      "Epoch [2/3], Batch [71/84], Loss: 1.98708940\n",
      "Epoch [2/3], Batch [72/84], Loss: 0.99670684\n",
      "Epoch [2/3], Batch [73/84], Loss: 1.59557688\n",
      "Epoch [2/3], Batch [74/84], Loss: 1.48352885\n",
      "Epoch [2/3], Batch [75/84], Loss: 1.83847868\n",
      "Epoch [2/3], Batch [76/84], Loss: 1.49976468\n",
      "Epoch [2/3], Batch [77/84], Loss: 0.88952923\n",
      "Epoch [2/3], Batch [78/84], Loss: 1.36759281\n",
      "Epoch [2/3], Batch [79/84], Loss: 1.45244277\n",
      "Epoch [2/3], Batch [80/84], Loss: 1.62731993\n",
      "Epoch [2/3], Batch [81/84], Loss: 1.30777168\n",
      "Epoch [2/3], Batch [82/84], Loss: 1.68139935\n",
      "Epoch [2/3], Batch [83/84], Loss: 1.47292650\n",
      "Epoch [3/3], Batch [0/84], Loss: 1.28032625\n",
      "Epoch [3/3], Batch [1/84], Loss: 1.71461868\n",
      "Epoch [3/3], Batch [2/84], Loss: 1.57559764\n",
      "Epoch [3/3], Batch [3/84], Loss: 1.19799924\n",
      "Epoch [3/3], Batch [4/84], Loss: 1.39101660\n",
      "Epoch [3/3], Batch [5/84], Loss: 1.25728869\n",
      "Epoch [3/3], Batch [6/84], Loss: 1.42055464\n",
      "Epoch [3/3], Batch [7/84], Loss: 1.91837096\n",
      "Epoch [3/3], Batch [8/84], Loss: 1.20497847\n",
      "Epoch [3/3], Batch [9/84], Loss: 1.21540141\n",
      "Epoch [3/3], Batch [10/84], Loss: 1.25167894\n",
      "Epoch [3/3], Batch [11/84], Loss: 1.78647172\n",
      "Epoch [3/3], Batch [12/84], Loss: 1.20684171\n",
      "Epoch [3/3], Batch [13/84], Loss: 1.48831022\n",
      "Epoch [3/3], Batch [14/84], Loss: 1.61210322\n",
      "Epoch [3/3], Batch [15/84], Loss: 1.57478261\n",
      "Epoch [3/3], Batch [16/84], Loss: 1.48415637\n",
      "Epoch [3/3], Batch [17/84], Loss: 1.53055120\n",
      "Epoch [3/3], Batch [18/84], Loss: 1.50613916\n",
      "Epoch [3/3], Batch [19/84], Loss: 1.51032257\n",
      "Epoch [3/3], Batch [20/84], Loss: 1.43120170\n",
      "Epoch [3/3], Batch [21/84], Loss: 1.36424732\n",
      "Epoch [3/3], Batch [22/84], Loss: 1.52303565\n",
      "Epoch [3/3], Batch [23/84], Loss: 1.36602950\n",
      "Epoch [3/3], Batch [24/84], Loss: 1.29938626\n",
      "Epoch [3/3], Batch [25/84], Loss: 1.21427846\n",
      "Epoch [3/3], Batch [26/84], Loss: 0.98836881\n",
      "Epoch [3/3], Batch [27/84], Loss: 1.14496636\n",
      "Epoch [3/3], Batch [28/84], Loss: 1.65699828\n",
      "Epoch [3/3], Batch [29/84], Loss: 1.23806071\n",
      "Epoch [3/3], Batch [30/84], Loss: 1.12960470\n",
      "Epoch [3/3], Batch [31/84], Loss: 1.40136409\n",
      "Epoch [3/3], Batch [32/84], Loss: 1.70268178\n",
      "Epoch [3/3], Batch [33/84], Loss: 1.39016175\n",
      "Epoch [3/3], Batch [34/84], Loss: 1.71395910\n",
      "Epoch [3/3], Batch [35/84], Loss: 1.11742771\n",
      "Epoch [3/3], Batch [36/84], Loss: 1.17741930\n",
      "Epoch [3/3], Batch [37/84], Loss: 1.03937030\n",
      "Epoch [3/3], Batch [38/84], Loss: 1.21790719\n",
      "Epoch [3/3], Batch [39/84], Loss: 1.06460845\n",
      "Epoch [3/3], Batch [40/84], Loss: 1.30483139\n",
      "Epoch [3/3], Batch [41/84], Loss: 1.50155830\n",
      "Epoch [3/3], Batch [42/84], Loss: 1.34718859\n",
      "Epoch [3/3], Batch [43/84], Loss: 1.43750060\n",
      "Epoch [3/3], Batch [44/84], Loss: 1.81634355\n",
      "Epoch [3/3], Batch [45/84], Loss: 1.00919461\n",
      "Epoch [3/3], Batch [46/84], Loss: 1.15028358\n",
      "Epoch [3/3], Batch [47/84], Loss: 1.35990739\n",
      "Epoch [3/3], Batch [48/84], Loss: 1.12339211\n",
      "Epoch [3/3], Batch [49/84], Loss: 1.30296218\n",
      "Epoch [3/3], Batch [50/84], Loss: 1.43003225\n",
      "Epoch [3/3], Batch [51/84], Loss: 1.49123585\n",
      "Epoch [3/3], Batch [52/84], Loss: 1.09569979\n",
      "Epoch [3/3], Batch [53/84], Loss: 1.16876483\n",
      "Epoch [3/3], Batch [54/84], Loss: 1.05910373\n",
      "Epoch [3/3], Batch [55/84], Loss: 1.25995815\n",
      "Epoch [3/3], Batch [56/84], Loss: 0.95571071\n",
      "Epoch [3/3], Batch [57/84], Loss: 1.68122101\n",
      "Epoch [3/3], Batch [58/84], Loss: 1.03858685\n",
      "Epoch [3/3], Batch [59/84], Loss: 0.86754495\n",
      "Epoch [3/3], Batch [60/84], Loss: 1.68808722\n",
      "Epoch [3/3], Batch [61/84], Loss: 1.26725316\n",
      "Epoch [3/3], Batch [62/84], Loss: 1.58575499\n",
      "Epoch [3/3], Batch [63/84], Loss: 1.46270251\n",
      "Epoch [3/3], Batch [64/84], Loss: 1.24623024\n",
      "Epoch [3/3], Batch [65/84], Loss: 1.03979278\n",
      "Epoch [3/3], Batch [66/84], Loss: 1.67772079\n",
      "Epoch [3/3], Batch [67/84], Loss: 1.58994508\n",
      "Epoch [3/3], Batch [68/84], Loss: 0.94205678\n",
      "Epoch [3/3], Batch [69/84], Loss: 1.66947436\n",
      "Epoch [3/3], Batch [70/84], Loss: 1.49622655\n",
      "Epoch [3/3], Batch [71/84], Loss: 1.59651971\n",
      "Epoch [3/3], Batch [72/84], Loss: 1.45108581\n",
      "Epoch [3/3], Batch [73/84], Loss: 1.24086607\n",
      "Epoch [3/3], Batch [74/84], Loss: 1.16284502\n",
      "Epoch [3/3], Batch [75/84], Loss: 1.20515192\n",
      "Epoch [3/3], Batch [76/84], Loss: 1.61476398\n",
      "Epoch [3/3], Batch [77/84], Loss: 1.55470431\n",
      "Epoch [3/3], Batch [78/84], Loss: 1.92805219\n",
      "Epoch [3/3], Batch [79/84], Loss: 1.63718700\n",
      "Epoch [3/3], Batch [80/84], Loss: 1.29988790\n",
      "Epoch [3/3], Batch [81/84], Loss: 1.28071237\n",
      "Epoch [3/3], Batch [82/84], Loss: 1.13922286\n",
      "Epoch [3/3], Batch [83/84], Loss: 1.92756021\n",
      "Finished Training\n"
     ]
    }
   ],
   "source": [
    "###\n",
    "num_epochs = 3\n",
    "for epoch in range(num_epochs):  # loop over the dataset multiple times\n",
    "\n",
    "    running_loss = 0.0\n",
    "    for i, (inputs,labels) in enumerate(trainloader):\n",
    "        optimizer.zero_grad()\n",
    "        outputs = net(inputs)\n",
    "        loss = criterion(outputs, labels)\n",
    "        loss.backward()\n",
    "        optimizer.step()\n",
    "        print('Epoch [{}/{}], Batch [{}/{}], Loss: {:.8f}'.format(epoch+1, num_epochs, i, len(trainloader), loss.item()))\n",
    "\n",
    "print('Finished Training')"
   ]
  },
  {
   "cell_type": "code",
   "execution_count": null,
   "metadata": {
    "colab": {
     "base_uri": "https://localhost:8080/"
    },
    "id": "7CMUlQvlNEsI",
    "outputId": "74e05508-1f46-401e-963d-ac8acc99a955"
   },
   "outputs": [
    {
     "name": "stdout",
     "output_type": "stream",
     "text": [
      "Accuracy of the network on the 420 test images: 47.8571 %\n"
     ]
    }
   ],
   "source": [
    "correct = 0\n",
    "total = 0\n",
    "\n",
    "with torch.no_grad():\n",
    "    net.eval()\n",
    "    for inputs, labels in testloader:\n",
    "        outputs = net(inputs)\n",
    "        _, predicted = torch.max(outputs.data, 1)\n",
    "        total += labels.size(0)\n",
    "        correct += (predicted == labels).sum().item()\n",
    "\n",
    "print('Accuracy of the network on the %d test images: %.4f %%' % (len(test_set), 100 * correct / total))"
   ]
  },
  {
   "cell_type": "code",
   "execution_count": null,
   "metadata": {
    "id": "M_0xgOLsN4Bm"
   },
   "outputs": [],
   "source": [
    "def test(testloader, net):\n",
    "    correct = 0\n",
    "    total = 0\n",
    "    with torch.no_grad():\n",
    "        for images, labels in testloader:\n",
    "            outputs = net(images)\n",
    "            _, predicted = torch.max(outputs.data, 1)\n",
    "            total += labels.size(0)\n",
    "            correct += (predicted == labels).sum().item()\n",
    "    accuracy = correct *1.0/ total\n",
    "    return accuracy"
   ]
  },
  {
   "cell_type": "code",
   "execution_count": null,
   "metadata": {
    "colab": {
     "base_uri": "https://localhost:8080/"
    },
    "id": "5ICYRbJfOImI",
    "outputId": "1e3c1718-8ca7-4ac0-a139-9e534d8155d5"
   },
   "outputs": [
    {
     "name": "stdout",
     "output_type": "stream",
     "text": [
      "Accuracy of the network on the test images: 47.85714285714286 %\n"
     ]
    }
   ],
   "source": [
    "acc = test(testloader, net)\n",
    "print(f'Accuracy of the network on the test images: {100 * acc} %')"
   ]
  },
  {
   "cell_type": "markdown",
   "metadata": {
    "id": "7sw7WdpZPLZ7"
   },
   "source": [
    "# 5.Transfer Learning (Inception V3)"
   ]
  },
  {
   "cell_type": "code",
   "execution_count": null,
   "metadata": {
    "colab": {
     "base_uri": "https://localhost:8080/"
    },
    "id": "DU2S18kBOou-",
    "outputId": "246b40c8-b4e3-4311-e876-7e932956364d"
   },
   "outputs": [
    {
     "data": {
      "text/plain": [
       "{'__name__': 'torchvision.models',\n",
       " '__doc__': None,\n",
       " '__package__': 'torchvision.models',\n",
       " '__loader__': <_frozen_importlib_external.SourceFileLoader at 0x7cdab15e1cc0>,\n",
       " '__spec__': ModuleSpec(name='torchvision.models', loader=<_frozen_importlib_external.SourceFileLoader object at 0x7cdab15e1cc0>, origin='/usr/local/lib/python3.10/dist-packages/torchvision/models/__init__.py', submodule_search_locations=['/usr/local/lib/python3.10/dist-packages/torchvision/models']),\n",
       " '__path__': ['/usr/local/lib/python3.10/dist-packages/torchvision/models'],\n",
       " '__file__': '/usr/local/lib/python3.10/dist-packages/torchvision/models/__init__.py',\n",
       " '__cached__': '/usr/local/lib/python3.10/dist-packages/torchvision/models/__pycache__/__init__.cpython-310.pyc',\n",
       " '__builtins__': {'__name__': 'builtins',\n",
       "  '__doc__': \"Built-in functions, exceptions, and other objects.\\n\\nNoteworthy: None is the `nil' object; Ellipsis represents `...' in slices.\",\n",
       "  '__package__': '',\n",
       "  '__loader__': _frozen_importlib.BuiltinImporter,\n",
       "  '__spec__': ModuleSpec(name='builtins', loader=<class '_frozen_importlib.BuiltinImporter'>, origin='built-in'),\n",
       "  '__build_class__': <function __build_class__>,\n",
       "  '__import__': <function __import__>,\n",
       "  'abs': <function abs(x, /)>,\n",
       "  'all': <function all(iterable, /)>,\n",
       "  'any': <function any(iterable, /)>,\n",
       "  'ascii': <function ascii(obj, /)>,\n",
       "  'bin': <function bin(number, /)>,\n",
       "  'breakpoint': <function breakpoint>,\n",
       "  'callable': <function callable(obj, /)>,\n",
       "  'chr': <function chr(i, /)>,\n",
       "  'compile': <function compile(source, filename, mode, flags=0, dont_inherit=False, optimize=-1, *, _feature_version=-1)>,\n",
       "  'delattr': <function delattr(obj, name, /)>,\n",
       "  'dir': <function dir>,\n",
       "  'divmod': <function divmod(x, y, /)>,\n",
       "  'eval': <function eval(source, globals=None, locals=None, /)>,\n",
       "  'exec': <function exec(source, globals=None, locals=None, /)>,\n",
       "  'format': <function format(value, format_spec='', /)>,\n",
       "  'getattr': <function getattr>,\n",
       "  'globals': <function globals()>,\n",
       "  'hasattr': <function hasattr(obj, name, /)>,\n",
       "  'hash': <function hash(obj, /)>,\n",
       "  'hex': <function hex(number, /)>,\n",
       "  'id': <function id(obj, /)>,\n",
       "  'input': <bound method Kernel.raw_input of <google.colab._kernel.Kernel object at 0x7cdb55edf790>>,\n",
       "  'isinstance': <function isinstance(obj, class_or_tuple, /)>,\n",
       "  'issubclass': <function issubclass(cls, class_or_tuple, /)>,\n",
       "  'iter': <function iter>,\n",
       "  'aiter': <function aiter(async_iterable, /)>,\n",
       "  'len': <function len(obj, /)>,\n",
       "  'locals': <function locals()>,\n",
       "  'max': <function max>,\n",
       "  'min': <function min>,\n",
       "  'next': <function next>,\n",
       "  'anext': <function anext>,\n",
       "  'oct': <function oct(number, /)>,\n",
       "  'ord': <function ord(c, /)>,\n",
       "  'pow': <function pow(base, exp, mod=None)>,\n",
       "  'print': <function print>,\n",
       "  'repr': <function repr(obj, /)>,\n",
       "  'round': <function round(number, ndigits=None)>,\n",
       "  'setattr': <function setattr(obj, name, value, /)>,\n",
       "  'sorted': <function sorted(iterable, /, *, key=None, reverse=False)>,\n",
       "  'sum': <function sum(iterable, /, start=0)>,\n",
       "  'vars': <function vars>,\n",
       "  'None': None,\n",
       "  'Ellipsis': Ellipsis,\n",
       "  'NotImplemented': NotImplemented,\n",
       "  'False': False,\n",
       "  'True': True,\n",
       "  'bool': bool,\n",
       "  'memoryview': memoryview,\n",
       "  'bytearray': bytearray,\n",
       "  'bytes': bytes,\n",
       "  'classmethod': classmethod,\n",
       "  'complex': complex,\n",
       "  'dict': dict,\n",
       "  'enumerate': enumerate,\n",
       "  'filter': filter,\n",
       "  'float': float,\n",
       "  'frozenset': frozenset,\n",
       "  'property': property,\n",
       "  'int': int,\n",
       "  'list': list,\n",
       "  'map': map,\n",
       "  'object': object,\n",
       "  'range': range,\n",
       "  'reversed': reversed,\n",
       "  'set': set,\n",
       "  'slice': slice,\n",
       "  'staticmethod': staticmethod,\n",
       "  'str': str,\n",
       "  'super': super,\n",
       "  'tuple': tuple,\n",
       "  'type': type,\n",
       "  'zip': zip,\n",
       "  '__debug__': True,\n",
       "  'BaseException': BaseException,\n",
       "  'Exception': Exception,\n",
       "  'TypeError': TypeError,\n",
       "  'StopAsyncIteration': StopAsyncIteration,\n",
       "  'StopIteration': StopIteration,\n",
       "  'GeneratorExit': GeneratorExit,\n",
       "  'SystemExit': SystemExit,\n",
       "  'KeyboardInterrupt': KeyboardInterrupt,\n",
       "  'ImportError': ImportError,\n",
       "  'ModuleNotFoundError': ModuleNotFoundError,\n",
       "  'OSError': OSError,\n",
       "  'EnvironmentError': OSError,\n",
       "  'IOError': OSError,\n",
       "  'EOFError': EOFError,\n",
       "  'RuntimeError': RuntimeError,\n",
       "  'RecursionError': RecursionError,\n",
       "  'NotImplementedError': NotImplementedError,\n",
       "  'NameError': NameError,\n",
       "  'UnboundLocalError': UnboundLocalError,\n",
       "  'AttributeError': AttributeError,\n",
       "  'SyntaxError': SyntaxError,\n",
       "  'IndentationError': IndentationError,\n",
       "  'TabError': TabError,\n",
       "  'LookupError': LookupError,\n",
       "  'IndexError': IndexError,\n",
       "  'KeyError': KeyError,\n",
       "  'ValueError': ValueError,\n",
       "  'UnicodeError': UnicodeError,\n",
       "  'UnicodeEncodeError': UnicodeEncodeError,\n",
       "  'UnicodeDecodeError': UnicodeDecodeError,\n",
       "  'UnicodeTranslateError': UnicodeTranslateError,\n",
       "  'AssertionError': AssertionError,\n",
       "  'ArithmeticError': ArithmeticError,\n",
       "  'FloatingPointError': FloatingPointError,\n",
       "  'OverflowError': OverflowError,\n",
       "  'ZeroDivisionError': ZeroDivisionError,\n",
       "  'SystemError': SystemError,\n",
       "  'ReferenceError': ReferenceError,\n",
       "  'MemoryError': MemoryError,\n",
       "  'BufferError': BufferError,\n",
       "  'Warning': Warning,\n",
       "  'UserWarning': UserWarning,\n",
       "  'EncodingWarning': EncodingWarning,\n",
       "  'DeprecationWarning': DeprecationWarning,\n",
       "  'PendingDeprecationWarning': PendingDeprecationWarning,\n",
       "  'SyntaxWarning': SyntaxWarning,\n",
       "  'RuntimeWarning': RuntimeWarning,\n",
       "  'FutureWarning': FutureWarning,\n",
       "  'ImportWarning': ImportWarning,\n",
       "  'UnicodeWarning': UnicodeWarning,\n",
       "  'BytesWarning': BytesWarning,\n",
       "  'ResourceWarning': ResourceWarning,\n",
       "  'ConnectionError': ConnectionError,\n",
       "  'BlockingIOError': BlockingIOError,\n",
       "  'BrokenPipeError': BrokenPipeError,\n",
       "  'ChildProcessError': ChildProcessError,\n",
       "  'ConnectionAbortedError': ConnectionAbortedError,\n",
       "  'ConnectionRefusedError': ConnectionRefusedError,\n",
       "  'ConnectionResetError': ConnectionResetError,\n",
       "  'FileExistsError': FileExistsError,\n",
       "  'FileNotFoundError': FileNotFoundError,\n",
       "  'IsADirectoryError': IsADirectoryError,\n",
       "  'NotADirectoryError': NotADirectoryError,\n",
       "  'InterruptedError': InterruptedError,\n",
       "  'PermissionError': PermissionError,\n",
       "  'ProcessLookupError': ProcessLookupError,\n",
       "  'TimeoutError': TimeoutError,\n",
       "  'open': <function io.open(file, mode='r', buffering=-1, encoding=None, errors=None, newline=None, closefd=True, opener=None)>,\n",
       "  'copyright': Copyright (c) 2001-2023 Python Software Foundation.\n",
       "  All Rights Reserved.\n",
       "  \n",
       "  Copyright (c) 2000 BeOpen.com.\n",
       "  All Rights Reserved.\n",
       "  \n",
       "  Copyright (c) 1995-2001 Corporation for National Research Initiatives.\n",
       "  All Rights Reserved.\n",
       "  \n",
       "  Copyright (c) 1991-1995 Stichting Mathematisch Centrum, Amsterdam.\n",
       "  All Rights Reserved.,\n",
       "  'credits':     Thanks to CWI, CNRI, BeOpen.com, Zope Corporation and a cast of thousands\n",
       "      for supporting Python development.  See www.python.org for more information.,\n",
       "  'license': Type license() to see the full license text,\n",
       "  'help': Type help() for interactive help, or help(object) for help about object.,\n",
       "  '__IPYTHON__': True,\n",
       "  'display': <function IPython.core.display.display(*objs, include=None, exclude=None, metadata=None, transient=None, display_id=None, **kwargs)>,\n",
       "  'execfile': <function _pydev_bundle._pydev_execfile.execfile(file, glob=None, loc=None)>,\n",
       "  'runfile': <function _pydev_bundle.pydev_umd.runfile(filename, args=None, wdir=None, namespace=None)>,\n",
       "  '__pybind11_internals_v4_gcc_libstdcpp_cxxabi1011__': <capsule object NULL at 0x7cdb4c270d80>,\n",
       "  '__pybind11_internals_v4_clang_libstdcpp_cxxabi1002__': <capsule object NULL at 0x7cda6b669710>,\n",
       "  '__pybind11_internals_v4_gcc_libstdcpp_cxxabi1014__': <capsule object NULL at 0x7cda4f705590>,\n",
       "  'get_ipython': <bound method InteractiveShell.get_ipython of <google.colab._shell.Shell object at 0x7cdb55edf820>>},\n",
       " '_api': <module 'torchvision.models._api' from '/usr/local/lib/python3.10/dist-packages/torchvision/models/_api.py'>,\n",
       " '_meta': <module 'torchvision.models._meta' from '/usr/local/lib/python3.10/dist-packages/torchvision/models/_meta.py'>,\n",
       " '_utils': <module 'torchvision.models._utils' from '/usr/local/lib/python3.10/dist-packages/torchvision/models/_utils.py'>,\n",
       " 'alexnet': <function torchvision.models.alexnet.alexnet(*, weights: Optional[torchvision.models.alexnet.AlexNet_Weights] = None, progress: bool = True, **kwargs: Any) -> torchvision.models.alexnet.AlexNet>,\n",
       " 'AlexNet': torchvision.models.alexnet.AlexNet,\n",
       " 'AlexNet_Weights': <enum 'AlexNet_Weights'>,\n",
       " 'convnext': <module 'torchvision.models.convnext' from '/usr/local/lib/python3.10/dist-packages/torchvision/models/convnext.py'>,\n",
       " 'ConvNeXt': torchvision.models.convnext.ConvNeXt,\n",
       " 'ConvNeXt_Tiny_Weights': <enum 'ConvNeXt_Tiny_Weights'>,\n",
       " 'ConvNeXt_Small_Weights': <enum 'ConvNeXt_Small_Weights'>,\n",
       " 'ConvNeXt_Base_Weights': <enum 'ConvNeXt_Base_Weights'>,\n",
       " 'ConvNeXt_Large_Weights': <enum 'ConvNeXt_Large_Weights'>,\n",
       " 'convnext_tiny': <function torchvision.models.convnext.convnext_tiny(*, weights: Optional[torchvision.models.convnext.ConvNeXt_Tiny_Weights] = None, progress: bool = True, **kwargs: Any) -> torchvision.models.convnext.ConvNeXt>,\n",
       " 'convnext_small': <function torchvision.models.convnext.convnext_small(*, weights: Optional[torchvision.models.convnext.ConvNeXt_Small_Weights] = None, progress: bool = True, **kwargs: Any) -> torchvision.models.convnext.ConvNeXt>,\n",
       " 'convnext_base': <function torchvision.models.convnext.convnext_base(*, weights: Optional[torchvision.models.convnext.ConvNeXt_Base_Weights] = None, progress: bool = True, **kwargs: Any) -> torchvision.models.convnext.ConvNeXt>,\n",
       " 'convnext_large': <function torchvision.models.convnext.convnext_large(*, weights: Optional[torchvision.models.convnext.ConvNeXt_Large_Weights] = None, progress: bool = True, **kwargs: Any) -> torchvision.models.convnext.ConvNeXt>,\n",
       " 'densenet': <module 'torchvision.models.densenet' from '/usr/local/lib/python3.10/dist-packages/torchvision/models/densenet.py'>,\n",
       " 'DenseNet': torchvision.models.densenet.DenseNet,\n",
       " 'DenseNet121_Weights': <enum 'DenseNet121_Weights'>,\n",
       " 'DenseNet161_Weights': <enum 'DenseNet161_Weights'>,\n",
       " 'DenseNet169_Weights': <enum 'DenseNet169_Weights'>,\n",
       " 'DenseNet201_Weights': <enum 'DenseNet201_Weights'>,\n",
       " 'densenet121': <function torchvision.models.densenet.densenet121(*, weights: Optional[torchvision.models.densenet.DenseNet121_Weights] = None, progress: bool = True, **kwargs: Any) -> torchvision.models.densenet.DenseNet>,\n",
       " 'densenet161': <function torchvision.models.densenet.densenet161(*, weights: Optional[torchvision.models.densenet.DenseNet161_Weights] = None, progress: bool = True, **kwargs: Any) -> torchvision.models.densenet.DenseNet>,\n",
       " 'densenet169': <function torchvision.models.densenet.densenet169(*, weights: Optional[torchvision.models.densenet.DenseNet169_Weights] = None, progress: bool = True, **kwargs: Any) -> torchvision.models.densenet.DenseNet>,\n",
       " 'densenet201': <function torchvision.models.densenet.densenet201(*, weights: Optional[torchvision.models.densenet.DenseNet201_Weights] = None, progress: bool = True, **kwargs: Any) -> torchvision.models.densenet.DenseNet>,\n",
       " 'efficientnet': <module 'torchvision.models.efficientnet' from '/usr/local/lib/python3.10/dist-packages/torchvision/models/efficientnet.py'>,\n",
       " 'EfficientNet': torchvision.models.efficientnet.EfficientNet,\n",
       " 'EfficientNet_B0_Weights': <enum 'EfficientNet_B0_Weights'>,\n",
       " 'EfficientNet_B1_Weights': <enum 'EfficientNet_B1_Weights'>,\n",
       " 'EfficientNet_B2_Weights': <enum 'EfficientNet_B2_Weights'>,\n",
       " 'EfficientNet_B3_Weights': <enum 'EfficientNet_B3_Weights'>,\n",
       " 'EfficientNet_B4_Weights': <enum 'EfficientNet_B4_Weights'>,\n",
       " 'EfficientNet_B5_Weights': <enum 'EfficientNet_B5_Weights'>,\n",
       " 'EfficientNet_B6_Weights': <enum 'EfficientNet_B6_Weights'>,\n",
       " 'EfficientNet_B7_Weights': <enum 'EfficientNet_B7_Weights'>,\n",
       " 'EfficientNet_V2_S_Weights': <enum 'EfficientNet_V2_S_Weights'>,\n",
       " 'EfficientNet_V2_M_Weights': <enum 'EfficientNet_V2_M_Weights'>,\n",
       " 'EfficientNet_V2_L_Weights': <enum 'EfficientNet_V2_L_Weights'>,\n",
       " 'efficientnet_b0': <function torchvision.models.efficientnet.efficientnet_b0(*, weights: Optional[torchvision.models.efficientnet.EfficientNet_B0_Weights] = None, progress: bool = True, **kwargs: Any) -> torchvision.models.efficientnet.EfficientNet>,\n",
       " 'efficientnet_b1': <function torchvision.models.efficientnet.efficientnet_b1(*, weights: Optional[torchvision.models.efficientnet.EfficientNet_B1_Weights] = None, progress: bool = True, **kwargs: Any) -> torchvision.models.efficientnet.EfficientNet>,\n",
       " 'efficientnet_b2': <function torchvision.models.efficientnet.efficientnet_b2(*, weights: Optional[torchvision.models.efficientnet.EfficientNet_B2_Weights] = None, progress: bool = True, **kwargs: Any) -> torchvision.models.efficientnet.EfficientNet>,\n",
       " 'efficientnet_b3': <function torchvision.models.efficientnet.efficientnet_b3(*, weights: Optional[torchvision.models.efficientnet.EfficientNet_B3_Weights] = None, progress: bool = True, **kwargs: Any) -> torchvision.models.efficientnet.EfficientNet>,\n",
       " 'efficientnet_b4': <function torchvision.models.efficientnet.efficientnet_b4(*, weights: Optional[torchvision.models.efficientnet.EfficientNet_B4_Weights] = None, progress: bool = True, **kwargs: Any) -> torchvision.models.efficientnet.EfficientNet>,\n",
       " 'efficientnet_b5': <function torchvision.models.efficientnet.efficientnet_b5(*, weights: Optional[torchvision.models.efficientnet.EfficientNet_B5_Weights] = None, progress: bool = True, **kwargs: Any) -> torchvision.models.efficientnet.EfficientNet>,\n",
       " 'efficientnet_b6': <function torchvision.models.efficientnet.efficientnet_b6(*, weights: Optional[torchvision.models.efficientnet.EfficientNet_B6_Weights] = None, progress: bool = True, **kwargs: Any) -> torchvision.models.efficientnet.EfficientNet>,\n",
       " 'efficientnet_b7': <function torchvision.models.efficientnet.efficientnet_b7(*, weights: Optional[torchvision.models.efficientnet.EfficientNet_B7_Weights] = None, progress: bool = True, **kwargs: Any) -> torchvision.models.efficientnet.EfficientNet>,\n",
       " 'efficientnet_v2_s': <function torchvision.models.efficientnet.efficientnet_v2_s(*, weights: Optional[torchvision.models.efficientnet.EfficientNet_V2_S_Weights] = None, progress: bool = True, **kwargs: Any) -> torchvision.models.efficientnet.EfficientNet>,\n",
       " 'efficientnet_v2_m': <function torchvision.models.efficientnet.efficientnet_v2_m(*, weights: Optional[torchvision.models.efficientnet.EfficientNet_V2_M_Weights] = None, progress: bool = True, **kwargs: Any) -> torchvision.models.efficientnet.EfficientNet>,\n",
       " 'efficientnet_v2_l': <function torchvision.models.efficientnet.efficientnet_v2_l(*, weights: Optional[torchvision.models.efficientnet.EfficientNet_V2_L_Weights] = None, progress: bool = True, **kwargs: Any) -> torchvision.models.efficientnet.EfficientNet>,\n",
       " 'googlenet': <function torchvision.models.googlenet.googlenet(*, weights: Optional[torchvision.models.googlenet.GoogLeNet_Weights] = None, progress: bool = True, **kwargs: Any) -> torchvision.models.googlenet.GoogLeNet>,\n",
       " 'GoogLeNet': torchvision.models.googlenet.GoogLeNet,\n",
       " 'GoogLeNetOutputs': torchvision.models.googlenet.GoogLeNetOutputs,\n",
       " '_GoogLeNetOutputs': torchvision.models.googlenet.GoogLeNetOutputs,\n",
       " 'GoogLeNet_Weights': <enum 'GoogLeNet_Weights'>,\n",
       " 'inception': <module 'torchvision.models.inception' from '/usr/local/lib/python3.10/dist-packages/torchvision/models/inception.py'>,\n",
       " 'Inception3': torchvision.models.inception.Inception3,\n",
       " 'InceptionOutputs': torchvision.models.inception.InceptionOutputs,\n",
       " '_InceptionOutputs': torchvision.models.inception.InceptionOutputs,\n",
       " 'Inception_V3_Weights': <enum 'Inception_V3_Weights'>,\n",
       " 'inception_v3': <function torchvision.models.inception.inception_v3(*, weights: Optional[torchvision.models.inception.Inception_V3_Weights] = None, progress: bool = True, **kwargs: Any) -> torchvision.models.inception.Inception3>,\n",
       " 'mnasnet': <module 'torchvision.models.mnasnet' from '/usr/local/lib/python3.10/dist-packages/torchvision/models/mnasnet.py'>,\n",
       " 'MNASNet': torchvision.models.mnasnet.MNASNet,\n",
       " 'MNASNet0_5_Weights': <enum 'MNASNet0_5_Weights'>,\n",
       " 'MNASNet0_75_Weights': <enum 'MNASNet0_75_Weights'>,\n",
       " 'MNASNet1_0_Weights': <enum 'MNASNet1_0_Weights'>,\n",
       " 'MNASNet1_3_Weights': <enum 'MNASNet1_3_Weights'>,\n",
       " 'mnasnet0_5': <function torchvision.models.mnasnet.mnasnet0_5(*, weights: Optional[torchvision.models.mnasnet.MNASNet0_5_Weights] = None, progress: bool = True, **kwargs: Any) -> torchvision.models.mnasnet.MNASNet>,\n",
       " 'mnasnet0_75': <function torchvision.models.mnasnet.mnasnet0_75(*, weights: Optional[torchvision.models.mnasnet.MNASNet0_75_Weights] = None, progress: bool = True, **kwargs: Any) -> torchvision.models.mnasnet.MNASNet>,\n",
       " 'mnasnet1_0': <function torchvision.models.mnasnet.mnasnet1_0(*, weights: Optional[torchvision.models.mnasnet.MNASNet1_0_Weights] = None, progress: bool = True, **kwargs: Any) -> torchvision.models.mnasnet.MNASNet>,\n",
       " 'mnasnet1_3': <function torchvision.models.mnasnet.mnasnet1_3(*, weights: Optional[torchvision.models.mnasnet.MNASNet1_3_Weights] = None, progress: bool = True, **kwargs: Any) -> torchvision.models.mnasnet.MNASNet>,\n",
       " 'mobilenetv2': <module 'torchvision.models.mobilenetv2' from '/usr/local/lib/python3.10/dist-packages/torchvision/models/mobilenetv2.py'>,\n",
       " 'mobilenetv3': <module 'torchvision.models.mobilenetv3' from '/usr/local/lib/python3.10/dist-packages/torchvision/models/mobilenetv3.py'>,\n",
       " 'mobilenet': <module 'torchvision.models.mobilenet' from '/usr/local/lib/python3.10/dist-packages/torchvision/models/mobilenet.py'>,\n",
       " 'MobileNetV2': torchvision.models.mobilenetv2.MobileNetV2,\n",
       " 'MobileNet_V2_Weights': <enum 'MobileNet_V2_Weights'>,\n",
       " 'mobilenet_v2': <function torchvision.models.mobilenetv2.mobilenet_v2(*, weights: Optional[torchvision.models.mobilenetv2.MobileNet_V2_Weights] = None, progress: bool = True, **kwargs: Any) -> torchvision.models.mobilenetv2.MobileNetV2>,\n",
       " 'MobileNetV3': torchvision.models.mobilenetv3.MobileNetV3,\n",
       " 'MobileNet_V3_Large_Weights': <enum 'MobileNet_V3_Large_Weights'>,\n",
       " 'MobileNet_V3_Small_Weights': <enum 'MobileNet_V3_Small_Weights'>,\n",
       " 'mobilenet_v3_large': <function torchvision.models.mobilenetv3.mobilenet_v3_large(*, weights: Optional[torchvision.models.mobilenetv3.MobileNet_V3_Large_Weights] = None, progress: bool = True, **kwargs: Any) -> torchvision.models.mobilenetv3.MobileNetV3>,\n",
       " 'mobilenet_v3_small': <function torchvision.models.mobilenetv3.mobilenet_v3_small(*, weights: Optional[torchvision.models.mobilenetv3.MobileNet_V3_Small_Weights] = None, progress: bool = True, **kwargs: Any) -> torchvision.models.mobilenetv3.MobileNetV3>,\n",
       " 'regnet': <module 'torchvision.models.regnet' from '/usr/local/lib/python3.10/dist-packages/torchvision/models/regnet.py'>,\n",
       " 'RegNet': torchvision.models.regnet.RegNet,\n",
       " 'RegNet_Y_400MF_Weights': <enum 'RegNet_Y_400MF_Weights'>,\n",
       " 'RegNet_Y_800MF_Weights': <enum 'RegNet_Y_800MF_Weights'>,\n",
       " 'RegNet_Y_1_6GF_Weights': <enum 'RegNet_Y_1_6GF_Weights'>,\n",
       " 'RegNet_Y_3_2GF_Weights': <enum 'RegNet_Y_3_2GF_Weights'>,\n",
       " 'RegNet_Y_8GF_Weights': <enum 'RegNet_Y_8GF_Weights'>,\n",
       " 'RegNet_Y_16GF_Weights': <enum 'RegNet_Y_16GF_Weights'>,\n",
       " 'RegNet_Y_32GF_Weights': <enum 'RegNet_Y_32GF_Weights'>,\n",
       " 'RegNet_Y_128GF_Weights': <enum 'RegNet_Y_128GF_Weights'>,\n",
       " 'RegNet_X_400MF_Weights': <enum 'RegNet_X_400MF_Weights'>,\n",
       " 'RegNet_X_800MF_Weights': <enum 'RegNet_X_800MF_Weights'>,\n",
       " 'RegNet_X_1_6GF_Weights': <enum 'RegNet_X_1_6GF_Weights'>,\n",
       " 'RegNet_X_3_2GF_Weights': <enum 'RegNet_X_3_2GF_Weights'>,\n",
       " 'RegNet_X_8GF_Weights': <enum 'RegNet_X_8GF_Weights'>,\n",
       " 'RegNet_X_16GF_Weights': <enum 'RegNet_X_16GF_Weights'>,\n",
       " 'RegNet_X_32GF_Weights': <enum 'RegNet_X_32GF_Weights'>,\n",
       " 'regnet_y_400mf': <function torchvision.models.regnet.regnet_y_400mf(*, weights: Optional[torchvision.models.regnet.RegNet_Y_400MF_Weights] = None, progress: bool = True, **kwargs: Any) -> torchvision.models.regnet.RegNet>,\n",
       " 'regnet_y_800mf': <function torchvision.models.regnet.regnet_y_800mf(*, weights: Optional[torchvision.models.regnet.RegNet_Y_800MF_Weights] = None, progress: bool = True, **kwargs: Any) -> torchvision.models.regnet.RegNet>,\n",
       " 'regnet_y_1_6gf': <function torchvision.models.regnet.regnet_y_1_6gf(*, weights: Optional[torchvision.models.regnet.RegNet_Y_1_6GF_Weights] = None, progress: bool = True, **kwargs: Any) -> torchvision.models.regnet.RegNet>,\n",
       " 'regnet_y_3_2gf': <function torchvision.models.regnet.regnet_y_3_2gf(*, weights: Optional[torchvision.models.regnet.RegNet_Y_3_2GF_Weights] = None, progress: bool = True, **kwargs: Any) -> torchvision.models.regnet.RegNet>,\n",
       " 'regnet_y_8gf': <function torchvision.models.regnet.regnet_y_8gf(*, weights: Optional[torchvision.models.regnet.RegNet_Y_8GF_Weights] = None, progress: bool = True, **kwargs: Any) -> torchvision.models.regnet.RegNet>,\n",
       " 'regnet_y_16gf': <function torchvision.models.regnet.regnet_y_16gf(*, weights: Optional[torchvision.models.regnet.RegNet_Y_16GF_Weights] = None, progress: bool = True, **kwargs: Any) -> torchvision.models.regnet.RegNet>,\n",
       " 'regnet_y_32gf': <function torchvision.models.regnet.regnet_y_32gf(*, weights: Optional[torchvision.models.regnet.RegNet_Y_32GF_Weights] = None, progress: bool = True, **kwargs: Any) -> torchvision.models.regnet.RegNet>,\n",
       " 'regnet_y_128gf': <function torchvision.models.regnet.regnet_y_128gf(*, weights: Optional[torchvision.models.regnet.RegNet_Y_128GF_Weights] = None, progress: bool = True, **kwargs: Any) -> torchvision.models.regnet.RegNet>,\n",
       " 'regnet_x_400mf': <function torchvision.models.regnet.regnet_x_400mf(*, weights: Optional[torchvision.models.regnet.RegNet_X_400MF_Weights] = None, progress: bool = True, **kwargs: Any) -> torchvision.models.regnet.RegNet>,\n",
       " 'regnet_x_800mf': <function torchvision.models.regnet.regnet_x_800mf(*, weights: Optional[torchvision.models.regnet.RegNet_X_800MF_Weights] = None, progress: bool = True, **kwargs: Any) -> torchvision.models.regnet.RegNet>,\n",
       " 'regnet_x_1_6gf': <function torchvision.models.regnet.regnet_x_1_6gf(*, weights: Optional[torchvision.models.regnet.RegNet_X_1_6GF_Weights] = None, progress: bool = True, **kwargs: Any) -> torchvision.models.regnet.RegNet>,\n",
       " 'regnet_x_3_2gf': <function torchvision.models.regnet.regnet_x_3_2gf(*, weights: Optional[torchvision.models.regnet.RegNet_X_3_2GF_Weights] = None, progress: bool = True, **kwargs: Any) -> torchvision.models.regnet.RegNet>,\n",
       " 'regnet_x_8gf': <function torchvision.models.regnet.regnet_x_8gf(*, weights: Optional[torchvision.models.regnet.RegNet_X_8GF_Weights] = None, progress: bool = True, **kwargs: Any) -> torchvision.models.regnet.RegNet>,\n",
       " 'regnet_x_16gf': <function torchvision.models.regnet.regnet_x_16gf(*, weights: Optional[torchvision.models.regnet.RegNet_X_16GF_Weights] = None, progress: bool = True, **kwargs: Any) -> torchvision.models.regnet.RegNet>,\n",
       " 'regnet_x_32gf': <function torchvision.models.regnet.regnet_x_32gf(*, weights: Optional[torchvision.models.regnet.RegNet_X_32GF_Weights] = None, progress: bool = True, **kwargs: Any) -> torchvision.models.regnet.RegNet>,\n",
       " 'resnet': <module 'torchvision.models.resnet' from '/usr/local/lib/python3.10/dist-packages/torchvision/models/resnet.py'>,\n",
       " 'ResNet': torchvision.models.resnet.ResNet,\n",
       " 'ResNet18_Weights': <enum 'ResNet18_Weights'>,\n",
       " 'ResNet34_Weights': <enum 'ResNet34_Weights'>,\n",
       " 'ResNet50_Weights': <enum 'ResNet50_Weights'>,\n",
       " 'ResNet101_Weights': <enum 'ResNet101_Weights'>,\n",
       " 'ResNet152_Weights': <enum 'ResNet152_Weights'>,\n",
       " 'ResNeXt50_32X4D_Weights': <enum 'ResNeXt50_32X4D_Weights'>,\n",
       " 'ResNeXt101_32X8D_Weights': <enum 'ResNeXt101_32X8D_Weights'>,\n",
       " 'ResNeXt101_64X4D_Weights': <enum 'ResNeXt101_64X4D_Weights'>,\n",
       " 'Wide_ResNet50_2_Weights': <enum 'Wide_ResNet50_2_Weights'>,\n",
       " 'Wide_ResNet101_2_Weights': <enum 'Wide_ResNet101_2_Weights'>,\n",
       " 'resnet18': <function torchvision.models.resnet.resnet18(*, weights: Optional[torchvision.models.resnet.ResNet18_Weights] = None, progress: bool = True, **kwargs: Any) -> torchvision.models.resnet.ResNet>,\n",
       " 'resnet34': <function torchvision.models.resnet.resnet34(*, weights: Optional[torchvision.models.resnet.ResNet34_Weights] = None, progress: bool = True, **kwargs: Any) -> torchvision.models.resnet.ResNet>,\n",
       " 'resnet50': <function torchvision.models.resnet.resnet50(*, weights: Optional[torchvision.models.resnet.ResNet50_Weights] = None, progress: bool = True, **kwargs: Any) -> torchvision.models.resnet.ResNet>,\n",
       " 'resnet101': <function torchvision.models.resnet.resnet101(*, weights: Optional[torchvision.models.resnet.ResNet101_Weights] = None, progress: bool = True, **kwargs: Any) -> torchvision.models.resnet.ResNet>,\n",
       " 'resnet152': <function torchvision.models.resnet.resnet152(*, weights: Optional[torchvision.models.resnet.ResNet152_Weights] = None, progress: bool = True, **kwargs: Any) -> torchvision.models.resnet.ResNet>,\n",
       " 'resnext50_32x4d': <function torchvision.models.resnet.resnext50_32x4d(*, weights: Optional[torchvision.models.resnet.ResNeXt50_32X4D_Weights] = None, progress: bool = True, **kwargs: Any) -> torchvision.models.resnet.ResNet>,\n",
       " 'resnext101_32x8d': <function torchvision.models.resnet.resnext101_32x8d(*, weights: Optional[torchvision.models.resnet.ResNeXt101_32X8D_Weights] = None, progress: bool = True, **kwargs: Any) -> torchvision.models.resnet.ResNet>,\n",
       " 'resnext101_64x4d': <function torchvision.models.resnet.resnext101_64x4d(*, weights: Optional[torchvision.models.resnet.ResNeXt101_64X4D_Weights] = None, progress: bool = True, **kwargs: Any) -> torchvision.models.resnet.ResNet>,\n",
       " 'wide_resnet50_2': <function torchvision.models.resnet.wide_resnet50_2(*, weights: Optional[torchvision.models.resnet.Wide_ResNet50_2_Weights] = None, progress: bool = True, **kwargs: Any) -> torchvision.models.resnet.ResNet>,\n",
       " 'wide_resnet101_2': <function torchvision.models.resnet.wide_resnet101_2(*, weights: Optional[torchvision.models.resnet.Wide_ResNet101_2_Weights] = None, progress: bool = True, **kwargs: Any) -> torchvision.models.resnet.ResNet>,\n",
       " 'shufflenetv2': <module 'torchvision.models.shufflenetv2' from '/usr/local/lib/python3.10/dist-packages/torchvision/models/shufflenetv2.py'>,\n",
       " 'ShuffleNetV2': torchvision.models.shufflenetv2.ShuffleNetV2,\n",
       " 'ShuffleNet_V2_X0_5_Weights': <enum 'ShuffleNet_V2_X0_5_Weights'>,\n",
       " 'ShuffleNet_V2_X1_0_Weights': <enum 'ShuffleNet_V2_X1_0_Weights'>,\n",
       " 'ShuffleNet_V2_X1_5_Weights': <enum 'ShuffleNet_V2_X1_5_Weights'>,\n",
       " 'ShuffleNet_V2_X2_0_Weights': <enum 'ShuffleNet_V2_X2_0_Weights'>,\n",
       " 'shufflenet_v2_x0_5': <function torchvision.models.shufflenetv2.shufflenet_v2_x0_5(*, weights: Optional[torchvision.models.shufflenetv2.ShuffleNet_V2_X0_5_Weights] = None, progress: bool = True, **kwargs: Any) -> torchvision.models.shufflenetv2.ShuffleNetV2>,\n",
       " 'shufflenet_v2_x1_0': <function torchvision.models.shufflenetv2.shufflenet_v2_x1_0(*, weights: Optional[torchvision.models.shufflenetv2.ShuffleNet_V2_X1_0_Weights] = None, progress: bool = True, **kwargs: Any) -> torchvision.models.shufflenetv2.ShuffleNetV2>,\n",
       " 'shufflenet_v2_x1_5': <function torchvision.models.shufflenetv2.shufflenet_v2_x1_5(*, weights: Optional[torchvision.models.shufflenetv2.ShuffleNet_V2_X1_5_Weights] = None, progress: bool = True, **kwargs: Any) -> torchvision.models.shufflenetv2.ShuffleNetV2>,\n",
       " 'shufflenet_v2_x2_0': <function torchvision.models.shufflenetv2.shufflenet_v2_x2_0(*, weights: Optional[torchvision.models.shufflenetv2.ShuffleNet_V2_X2_0_Weights] = None, progress: bool = True, **kwargs: Any) -> torchvision.models.shufflenetv2.ShuffleNetV2>,\n",
       " 'squeezenet': <module 'torchvision.models.squeezenet' from '/usr/local/lib/python3.10/dist-packages/torchvision/models/squeezenet.py'>,\n",
       " 'SqueezeNet': torchvision.models.squeezenet.SqueezeNet,\n",
       " 'SqueezeNet1_0_Weights': <enum 'SqueezeNet1_0_Weights'>,\n",
       " 'SqueezeNet1_1_Weights': <enum 'SqueezeNet1_1_Weights'>,\n",
       " 'squeezenet1_0': <function torchvision.models.squeezenet.squeezenet1_0(*, weights: Optional[torchvision.models.squeezenet.SqueezeNet1_0_Weights] = None, progress: bool = True, **kwargs: Any) -> torchvision.models.squeezenet.SqueezeNet>,\n",
       " 'squeezenet1_1': <function torchvision.models.squeezenet.squeezenet1_1(*, weights: Optional[torchvision.models.squeezenet.SqueezeNet1_1_Weights] = None, progress: bool = True, **kwargs: Any) -> torchvision.models.squeezenet.SqueezeNet>,\n",
       " 'vgg': <module 'torchvision.models.vgg' from '/usr/local/lib/python3.10/dist-packages/torchvision/models/vgg.py'>,\n",
       " 'VGG': torchvision.models.vgg.VGG,\n",
       " 'VGG11_Weights': <enum 'VGG11_Weights'>,\n",
       " 'VGG11_BN_Weights': <enum 'VGG11_BN_Weights'>,\n",
       " 'VGG13_Weights': <enum 'VGG13_Weights'>,\n",
       " 'VGG13_BN_Weights': <enum 'VGG13_BN_Weights'>,\n",
       " 'VGG16_Weights': <enum 'VGG16_Weights'>,\n",
       " 'VGG16_BN_Weights': <enum 'VGG16_BN_Weights'>,\n",
       " 'VGG19_Weights': <enum 'VGG19_Weights'>,\n",
       " 'VGG19_BN_Weights': <enum 'VGG19_BN_Weights'>,\n",
       " 'vgg11': <function torchvision.models.vgg.vgg11(*, weights: Optional[torchvision.models.vgg.VGG11_Weights] = None, progress: bool = True, **kwargs: Any) -> torchvision.models.vgg.VGG>,\n",
       " 'vgg11_bn': <function torchvision.models.vgg.vgg11_bn(*, weights: Optional[torchvision.models.vgg.VGG11_BN_Weights] = None, progress: bool = True, **kwargs: Any) -> torchvision.models.vgg.VGG>,\n",
       " 'vgg13': <function torchvision.models.vgg.vgg13(*, weights: Optional[torchvision.models.vgg.VGG13_Weights] = None, progress: bool = True, **kwargs: Any) -> torchvision.models.vgg.VGG>,\n",
       " 'vgg13_bn': <function torchvision.models.vgg.vgg13_bn(*, weights: Optional[torchvision.models.vgg.VGG13_BN_Weights] = None, progress: bool = True, **kwargs: Any) -> torchvision.models.vgg.VGG>,\n",
       " 'vgg16': <function torchvision.models.vgg.vgg16(*, weights: Optional[torchvision.models.vgg.VGG16_Weights] = None, progress: bool = True, **kwargs: Any) -> torchvision.models.vgg.VGG>,\n",
       " 'vgg16_bn': <function torchvision.models.vgg.vgg16_bn(*, weights: Optional[torchvision.models.vgg.VGG16_BN_Weights] = None, progress: bool = True, **kwargs: Any) -> torchvision.models.vgg.VGG>,\n",
       " 'vgg19': <function torchvision.models.vgg.vgg19(*, weights: Optional[torchvision.models.vgg.VGG19_Weights] = None, progress: bool = True, **kwargs: Any) -> torchvision.models.vgg.VGG>,\n",
       " 'vgg19_bn': <function torchvision.models.vgg.vgg19_bn(*, weights: Optional[torchvision.models.vgg.VGG19_BN_Weights] = None, progress: bool = True, **kwargs: Any) -> torchvision.models.vgg.VGG>,\n",
       " 'vision_transformer': <module 'torchvision.models.vision_transformer' from '/usr/local/lib/python3.10/dist-packages/torchvision/models/vision_transformer.py'>,\n",
       " 'VisionTransformer': torchvision.models.vision_transformer.VisionTransformer,\n",
       " 'ViT_B_16_Weights': <enum 'ViT_B_16_Weights'>,\n",
       " 'ViT_B_32_Weights': <enum 'ViT_B_32_Weights'>,\n",
       " 'ViT_L_16_Weights': <enum 'ViT_L_16_Weights'>,\n",
       " 'ViT_L_32_Weights': <enum 'ViT_L_32_Weights'>,\n",
       " 'ViT_H_14_Weights': <enum 'ViT_H_14_Weights'>,\n",
       " 'vit_b_16': <function torchvision.models.vision_transformer.vit_b_16(*, weights: Optional[torchvision.models.vision_transformer.ViT_B_16_Weights] = None, progress: bool = True, **kwargs: Any) -> torchvision.models.vision_transformer.VisionTransformer>,\n",
       " 'vit_b_32': <function torchvision.models.vision_transformer.vit_b_32(*, weights: Optional[torchvision.models.vision_transformer.ViT_B_32_Weights] = None, progress: bool = True, **kwargs: Any) -> torchvision.models.vision_transformer.VisionTransformer>,\n",
       " 'vit_l_16': <function torchvision.models.vision_transformer.vit_l_16(*, weights: Optional[torchvision.models.vision_transformer.ViT_L_16_Weights] = None, progress: bool = True, **kwargs: Any) -> torchvision.models.vision_transformer.VisionTransformer>,\n",
       " 'vit_l_32': <function torchvision.models.vision_transformer.vit_l_32(*, weights: Optional[torchvision.models.vision_transformer.ViT_L_32_Weights] = None, progress: bool = True, **kwargs: Any) -> torchvision.models.vision_transformer.VisionTransformer>,\n",
       " 'vit_h_14': <function torchvision.models.vision_transformer.vit_h_14(*, weights: Optional[torchvision.models.vision_transformer.ViT_H_14_Weights] = None, progress: bool = True, **kwargs: Any) -> torchvision.models.vision_transformer.VisionTransformer>,\n",
       " 'swin_transformer': <module 'torchvision.models.swin_transformer' from '/usr/local/lib/python3.10/dist-packages/torchvision/models/swin_transformer.py'>,\n",
       " 'SwinTransformer': torchvision.models.swin_transformer.SwinTransformer,\n",
       " 'Swin_T_Weights': <enum 'Swin_T_Weights'>,\n",
       " 'Swin_S_Weights': <enum 'Swin_S_Weights'>,\n",
       " 'Swin_B_Weights': <enum 'Swin_B_Weights'>,\n",
       " 'Swin_V2_T_Weights': <enum 'Swin_V2_T_Weights'>,\n",
       " 'Swin_V2_S_Weights': <enum 'Swin_V2_S_Weights'>,\n",
       " 'Swin_V2_B_Weights': <enum 'Swin_V2_B_Weights'>,\n",
       " 'swin_t': <function torchvision.models.swin_transformer.swin_t(*, weights: Optional[torchvision.models.swin_transformer.Swin_T_Weights] = None, progress: bool = True, **kwargs: Any) -> torchvision.models.swin_transformer.SwinTransformer>,\n",
       " 'swin_s': <function torchvision.models.swin_transformer.swin_s(*, weights: Optional[torchvision.models.swin_transformer.Swin_S_Weights] = None, progress: bool = True, **kwargs: Any) -> torchvision.models.swin_transformer.SwinTransformer>,\n",
       " 'swin_b': <function torchvision.models.swin_transformer.swin_b(*, weights: Optional[torchvision.models.swin_transformer.Swin_B_Weights] = None, progress: bool = True, **kwargs: Any) -> torchvision.models.swin_transformer.SwinTransformer>,\n",
       " 'swin_v2_t': <function torchvision.models.swin_transformer.swin_v2_t(*, weights: Optional[torchvision.models.swin_transformer.Swin_V2_T_Weights] = None, progress: bool = True, **kwargs: Any) -> torchvision.models.swin_transformer.SwinTransformer>,\n",
       " 'swin_v2_s': <function torchvision.models.swin_transformer.swin_v2_s(*, weights: Optional[torchvision.models.swin_transformer.Swin_V2_S_Weights] = None, progress: bool = True, **kwargs: Any) -> torchvision.models.swin_transformer.SwinTransformer>,\n",
       " 'swin_v2_b': <function torchvision.models.swin_transformer.swin_v2_b(*, weights: Optional[torchvision.models.swin_transformer.Swin_V2_B_Weights] = None, progress: bool = True, **kwargs: Any) -> torchvision.models.swin_transformer.SwinTransformer>,\n",
       " 'maxvit': <module 'torchvision.models.maxvit' from '/usr/local/lib/python3.10/dist-packages/torchvision/models/maxvit.py'>,\n",
       " 'MaxVit': torchvision.models.maxvit.MaxVit,\n",
       " 'MaxVit_T_Weights': <enum 'MaxVit_T_Weights'>,\n",
       " 'maxvit_t': <function torchvision.models.maxvit.maxvit_t(*, weights: Optional[torchvision.models.maxvit.MaxVit_T_Weights] = None, progress: bool = True, **kwargs: Any) -> torchvision.models.maxvit.MaxVit>,\n",
       " 'detection': <module 'torchvision.models.detection' from '/usr/local/lib/python3.10/dist-packages/torchvision/models/detection/__init__.py'>,\n",
       " 'optical_flow': <module 'torchvision.models.optical_flow' from '/usr/local/lib/python3.10/dist-packages/torchvision/models/optical_flow/__init__.py'>,\n",
       " 'quantization': <module 'torchvision.models.quantization' from '/usr/local/lib/python3.10/dist-packages/torchvision/models/quantization/__init__.py'>,\n",
       " 'segmentation': <module 'torchvision.models.segmentation' from '/usr/local/lib/python3.10/dist-packages/torchvision/models/segmentation/__init__.py'>,\n",
       " 'video': <module 'torchvision.models.video' from '/usr/local/lib/python3.10/dist-packages/torchvision/models/video/__init__.py'>,\n",
       " 'get_model': <function torchvision.models._api.get_model(name: str, **config: Any) -> torch.nn.modules.module.Module>,\n",
       " 'get_model_builder': <function torchvision.models._api.get_model_builder(name: str) -> Callable[..., torch.nn.modules.module.Module]>,\n",
       " 'get_model_weights': <function torchvision.models._api.get_model_weights(name: Union[Callable, str]) -> Type[torchvision.models._api.WeightsEnum]>,\n",
       " 'get_weight': <function torchvision.models._api.get_weight(name: str) -> torchvision.models._api.WeightsEnum>,\n",
       " 'list_models': <function torchvision.models._api.list_models(module: Optional[module] = None, include: Union[Iterable[str], str, NoneType] = None, exclude: Union[Iterable[str], str, NoneType] = None) -> List[str]>,\n",
       " 'Weights': torchvision.models._api.Weights,\n",
       " 'WeightsEnum': <enum 'WeightsEnum'>}"
      ]
     },
     "execution_count": 91,
     "metadata": {},
     "output_type": "execute_result"
    }
   ],
   "source": [
    "models.__dict__"
   ]
  },
  {
   "cell_type": "code",
   "execution_count": null,
   "metadata": {
    "colab": {
     "base_uri": "https://localhost:8080/"
    },
    "id": "0Gr0tmHxSKgV",
    "outputId": "11a69a2b-664f-4704-ceba-6e1a790cae18"
   },
   "outputs": [
    {
     "name": "stderr",
     "output_type": "stream",
     "text": [
      "/usr/local/lib/python3.10/dist-packages/torchvision/models/_utils.py:208: UserWarning: The parameter 'pretrained' is deprecated since 0.13 and may be removed in the future, please use 'weights' instead.\n",
      "  warnings.warn(\n",
      "/usr/local/lib/python3.10/dist-packages/torchvision/models/_utils.py:223: UserWarning: Arguments other than a weight enum or `None` for 'weights' are deprecated since 0.13 and may be removed in the future. The current behavior is equivalent to passing `weights=Inception_V3_Weights.IMAGENET1K_V1`. You can also use `weights=Inception_V3_Weights.DEFAULT` to get the most up-to-date weights.\n",
      "  warnings.warn(msg)\n"
     ]
    }
   ],
   "source": [
    "model = torchvision.models.inception_v3(pretrained=True)"
   ]
  },
  {
   "cell_type": "code",
   "execution_count": null,
   "metadata": {
    "colab": {
     "base_uri": "https://localhost:8080/"
    },
    "id": "OAdon_b1SXXw",
    "outputId": "47e38b61-1a6d-4e97-e2d2-e94574bce9f7"
   },
   "outputs": [
    {
     "data": {
      "text/plain": [
       "Linear(in_features=2048, out_features=1000, bias=True)"
      ]
     },
     "execution_count": 204,
     "metadata": {},
     "output_type": "execute_result"
    }
   ],
   "source": [
    "model.fc"
   ]
  },
  {
   "cell_type": "code",
   "execution_count": null,
   "metadata": {
    "colab": {
     "base_uri": "https://localhost:8080/"
    },
    "id": "xUNI_uOuUPQf",
    "outputId": "440e429e-e0d8-4cde-9ca8-032de56e8e27"
   },
   "outputs": [
    {
     "data": {
      "text/plain": [
       "tensor([0., 0., 0., 0., 0., 0., 0., 0., 0., 0., 0., 0., 0., 0., 0., 0., 0., 0., 0., 0., 0.])"
      ]
     },
     "execution_count": 205,
     "metadata": {},
     "output_type": "execute_result"
    }
   ],
   "source": [
    "model.fc = nn.Linear(model.fc.weight.size(1), num_classes)\n",
    "model.fc.weight.data.normal_(mean=0.0, std=0.01)\n",
    "model.fc.bias.data.zero_()"
   ]
  },
  {
   "cell_type": "code",
   "execution_count": null,
   "metadata": {
    "colab": {
     "base_uri": "https://localhost:8080/"
    },
    "id": "d9ANMGWAe8he",
    "outputId": "e0fd4ef7-cc1a-4ca9-9420-c9d073133656"
   },
   "outputs": [
    {
     "data": {
      "text/plain": [
       "Linear(in_features=2048, out_features=21, bias=True)"
      ]
     },
     "execution_count": 206,
     "metadata": {},
     "output_type": "execute_result"
    }
   ],
   "source": [
    "model.fc"
   ]
  },
  {
   "cell_type": "code",
   "execution_count": null,
   "metadata": {
    "colab": {
     "base_uri": "https://localhost:8080/"
    },
    "id": "hL5f7d54nt9H",
    "outputId": "0c869f12-d120-44b4-eb12-bf78c0d9dd5b"
   },
   "outputs": [
    {
     "name": "stdout",
     "output_type": "stream",
     "text": [
      "Number of trainable parameters: 292\n"
     ]
    }
   ],
   "source": [
    "print(\"Number of trainable parameters:\", len(parameters))"
   ]
  },
  {
   "cell_type": "code",
   "execution_count": null,
   "metadata": {
    "id": "zol5334TWA9B"
   },
   "outputs": [],
   "source": [
    "## define loss function and optimizer\n",
    "criterion = nn.CrossEntropyLoss()\n",
    "# optimize only the linear classifier\n",
    "parameters = list(filter(lambda p: p.requires_grad, model.parameters()))\n",
    "optimizer = torch.optim.SGD(params = parameters,\n",
    "                            lr = args['lr'],\n",
    "                            momentum=0.9,\n",
    "                            weight_decay=0.99)\n"
   ]
  },
  {
   "cell_type": "code",
   "execution_count": null,
   "metadata": {
    "colab": {
     "base_uri": "https://localhost:8080/"
    },
    "id": "D29kXAgbnzJb",
    "outputId": "a24b7268-e77d-4302-e29a-19a72066893a"
   },
   "outputs": [
    {
     "name": "stdout",
     "output_type": "stream",
     "text": [
      "Number of trainable parameters: 292\n"
     ]
    }
   ],
   "source": [
    "print(\"Number of trainable parameters:\", len(parameters))"
   ]
  },
  {
   "cell_type": "code",
   "execution_count": null,
   "metadata": {
    "id": "f_6piTQZxhgz"
   },
   "outputs": [],
   "source": [
    "def test(testloader, model, device = 'cpu'):\n",
    "    # evaluate on the whole dataset\n",
    "    correct = 0\n",
    "    total = 0\n",
    "    model.eval()\n",
    "    model = model.to(device)\n",
    "    # since we're not training, we don't need to calculate the gradients for our outputs\n",
    "    with torch.no_grad():\n",
    "        for data in testloader:\n",
    "            images, labels = data\n",
    "            images, labels = images.to(device), labels.to(device)\n",
    "            # calculate outputs by running images through the network\n",
    "            # outputs: shape (batch_size, num_classes)\n",
    "            outputs = model(images)\n",
    "            # the class with the highest energy is what we choose as prediction\n",
    "            _, predicted = torch.max(outputs.data, 1)\n",
    "            total += labels.size(0)\n",
    "            correct += (predicted == labels).sum().item()\n",
    "    accuracy = correct *1.0/ total\n",
    "    return accuracy"
   ]
  },
  {
   "cell_type": "code",
   "execution_count": null,
   "metadata": {
    "id": "offD6kynxlFz"
   },
   "outputs": [],
   "source": [
    "def train(trainloader, model, optimizer, criterion, epoch, num_iter, device = \"cpu\"):\n",
    "    model.train()\n",
    "    model = model.to(device)\n",
    "    running_loss = 0.0\n",
    "    for i, data in enumerate(trainloader, 0):\n",
    "        # get the inputs; data is a list of [inputs, labels]\n",
    "        # inputs: shape (B, 3, 256, 256)\n",
    "        # labels: shape (B)\n",
    "        inputs, labels = data\n",
    "        inputs, labels = inputs.to(device), labels.to(device)\n",
    "\n",
    "\n",
    "        # zero the parameter gradients\n",
    "        optimizer.zero_grad()\n",
    "\n",
    "        # forward + backward + optimize\n",
    "        # outputs: shape (B, 10)\n",
    "        outputs = model(inputs)\n",
    "        loss = criterion(outputs, labels)\n",
    "        loss.backward()\n",
    "        optimizer.step()\n",
    "\n",
    "        # print statistics\n",
    "        running_loss += loss.item()\n",
    "\n",
    "        if i % 5 == 4:    # print loss every 500 mini-batches\n",
    "            wandb.log({'num_iter': num_iter, 'train_loss': running_loss / 5})\n",
    "            print(f'[{epoch}, {num_iter:5d}] loss: {running_loss / 5:.3f}')\n",
    "            running_loss = 0.0\n",
    "\n",
    "        # if i % 10 == 9:    # eval every 2000 mini-batches\n",
    "        #     acc = test(testloader, model, device = args['device'])\n",
    "        #     wandb.log({'num_iter': num_iter, \"test_acc\": acc})\n",
    "        #     print(f'Test Accuracy: {100 * acc} %')\n",
    "\n",
    "        num_iter += 1\n",
    "    return model, num_iter"
   ]
  },
  {
   "cell_type": "code",
   "execution_count": null,
   "metadata": {
    "colab": {
     "base_uri": "https://localhost:8080/"
    },
    "id": "-tNO1g8Qxwge",
    "outputId": "335c16cc-0ae4-4628-9f79-6eaa7515821a"
   },
   "outputs": [
    {
     "name": "stdout",
     "output_type": "stream",
     "text": [
      "Requirement already satisfied: wandb in /usr/local/lib/python3.10/dist-packages (0.16.6)\n",
      "Requirement already satisfied: Click!=8.0.0,>=7.1 in /usr/local/lib/python3.10/dist-packages (from wandb) (8.1.7)\n",
      "Requirement already satisfied: GitPython!=3.1.29,>=1.0.0 in /usr/local/lib/python3.10/dist-packages (from wandb) (3.1.43)\n",
      "Requirement already satisfied: requests<3,>=2.0.0 in /usr/local/lib/python3.10/dist-packages (from wandb) (2.31.0)\n",
      "Requirement already satisfied: psutil>=5.0.0 in /usr/local/lib/python3.10/dist-packages (from wandb) (5.9.5)\n",
      "Requirement already satisfied: sentry-sdk>=1.0.0 in /usr/local/lib/python3.10/dist-packages (from wandb) (1.44.1)\n",
      "Requirement already satisfied: docker-pycreds>=0.4.0 in /usr/local/lib/python3.10/dist-packages (from wandb) (0.4.0)\n",
      "Requirement already satisfied: PyYAML in /usr/local/lib/python3.10/dist-packages (from wandb) (6.0.1)\n",
      "Requirement already satisfied: setproctitle in /usr/local/lib/python3.10/dist-packages (from wandb) (1.3.3)\n",
      "Requirement already satisfied: setuptools in /usr/local/lib/python3.10/dist-packages (from wandb) (67.7.2)\n",
      "Requirement already satisfied: appdirs>=1.4.3 in /usr/local/lib/python3.10/dist-packages (from wandb) (1.4.4)\n",
      "Requirement already satisfied: protobuf!=4.21.0,<5,>=3.19.0 in /usr/local/lib/python3.10/dist-packages (from wandb) (3.20.3)\n",
      "Requirement already satisfied: six>=1.4.0 in /usr/local/lib/python3.10/dist-packages (from docker-pycreds>=0.4.0->wandb) (1.16.0)\n",
      "Requirement already satisfied: gitdb<5,>=4.0.1 in /usr/local/lib/python3.10/dist-packages (from GitPython!=3.1.29,>=1.0.0->wandb) (4.0.11)\n",
      "Requirement already satisfied: charset-normalizer<4,>=2 in /usr/local/lib/python3.10/dist-packages (from requests<3,>=2.0.0->wandb) (3.3.2)\n",
      "Requirement already satisfied: idna<4,>=2.5 in /usr/local/lib/python3.10/dist-packages (from requests<3,>=2.0.0->wandb) (3.6)\n",
      "Requirement already satisfied: urllib3<3,>=1.21.1 in /usr/local/lib/python3.10/dist-packages (from requests<3,>=2.0.0->wandb) (2.0.7)\n",
      "Requirement already satisfied: certifi>=2017.4.17 in /usr/local/lib/python3.10/dist-packages (from requests<3,>=2.0.0->wandb) (2024.2.2)\n",
      "Requirement already satisfied: smmap<6,>=3.0.1 in /usr/local/lib/python3.10/dist-packages (from gitdb<5,>=4.0.1->GitPython!=3.1.29,>=1.0.0->wandb) (5.0.1)\n",
      "\u001b[34m\u001b[1mwandb\u001b[0m: Logging into wandb.ai. (Learn how to deploy a W&B server locally: https://wandb.me/wandb-server)\n",
      "\u001b[34m\u001b[1mwandb\u001b[0m: You can find your API key in your browser here: https://wandb.ai/authorize\n",
      "\u001b[34m\u001b[1mwandb\u001b[0m: Paste an API key from your profile and hit enter, or press ctrl+c to quit: \n",
      "\u001b[34m\u001b[1mwandb\u001b[0m: Appending key for api.wandb.ai to your netrc file: /root/.netrc\n"
     ]
    }
   ],
   "source": [
    "!pip install wandb\n",
    "!wandb login --relogin"
   ]
  },
  {
   "cell_type": "code",
   "execution_count": null,
   "metadata": {
    "id": "nUuNOnd9x4bZ"
   },
   "outputs": [],
   "source": [
    "### data augmentation\n",
    "mean = [0.485, 0.456, 0.406]\n",
    "std = [0.229, 0.224, 0.225]\n",
    "\n",
    "train_transform = transforms.Compose([\n",
    "    transforms.Resize(299),\n",
    "    transforms.RandomCrop(299), #Randomly crops the resized images\n",
    "    transforms.RandomHorizontalFlip(p=0.5), #Randomly flips the images horizontally with a probability of 0.5\n",
    "    transforms.RandomVerticalFlip(p=0.5),#Randomly flips the images vertically with a probability of 0.5\n",
    "    transforms.RandomRotation(30),#Randomly rotates the images (-30-- 30) with a probability of 0.5\n",
    "    transforms.ToTensor(),\n",
    "    transforms.Normalize(mean, std)\n",
    "])\n",
    "test_transform = transforms.Compose([\n",
    "    transforms.Resize(299),\n",
    "    transforms.RandomCrop(299),\n",
    "    transforms.ToTensor(),\n",
    "    transforms.Normalize(mean, std)\n",
    "])"
   ]
  },
  {
   "cell_type": "code",
   "execution_count": null,
   "metadata": {
    "id": "gfoGOAznybxV"
   },
   "outputs": [],
   "source": [
    "### train test data loader\n",
    "train_set = ImageDataset(dataset, sample_idxs = train_idxs, transform = train_transform)\n",
    "trainloader = torch.utils.data.DataLoader(train_set, batch_size=batch_size,\n",
    "                                          shuffle=True, num_workers=0)\n",
    "\n",
    "test_set = ImageDataset(dataset, sample_idxs = test_idxs, transform = test_transform)\n",
    "testloader = torch.utils.data.DataLoader(test_set, batch_size=batch_size,\n",
    "                                         shuffle=False, num_workers=0)"
   ]
  },
  {
   "cell_type": "code",
   "execution_count": null,
   "metadata": {
    "colab": {
     "base_uri": "https://localhost:8080/",
     "height": 246,
     "referenced_widgets": [
      "bb5e3687b0d340a3adaca171dd29baad",
      "b41553afe7154add9400eebd913ad6d5",
      "9af598650dcc4e0da56cca8b4185163e",
      "473bedba98c9432fb6902910be1fefbf",
      "88e97d02cafa4926849a0b7319d79c33",
      "c9d842c802a14dd2a518574a975dbbac",
      "a9b7aced0d954afeb7013c214d116c3c",
      "4d5d11d91c0749c892977b86e8664bd8"
     ]
    },
    "id": "aGVUI5zCyl5u",
    "outputId": "811e2566-3961-4bbd-ee35-ea73ccd09233"
   },
   "outputs": [
    {
     "name": "stderr",
     "output_type": "stream",
     "text": [
      "\u001b[34m\u001b[1mwandb\u001b[0m: \u001b[33mWARNING\u001b[0m Calling wandb.login() after wandb.init() has no effect.\n"
     ]
    },
    {
     "data": {
      "text/html": [
       "Finishing last run (ID:wdyubsyg) before initializing another..."
      ],
      "text/plain": [
       "<IPython.core.display.HTML object>"
      ]
     },
     "metadata": {},
     "output_type": "display_data"
    },
    {
     "data": {
      "application/vnd.jupyter.widget-view+json": {
       "model_id": "bb5e3687b0d340a3adaca171dd29baad",
       "version_major": 2,
       "version_minor": 0
      },
      "text/plain": [
       "VBox(children=(Label(value='0.001 MB of 0.001 MB uploaded\\r'), FloatProgress(value=1.0, max=1.0)))"
      ]
     },
     "metadata": {},
     "output_type": "display_data"
    },
    {
     "data": {
      "text/html": [
       " View run <strong style=\"color:#cdcd00\">celestial-thunder-1</strong> at: <a href='https://wandb.ai/hy96161/Lab2/runs/wdyubsyg' target=\"_blank\">https://wandb.ai/hy96161/Lab2/runs/wdyubsyg</a><br/> View project at: <a href='https://wandb.ai/hy96161/Lab2' target=\"_blank\">https://wandb.ai/hy96161/Lab2</a><br/>Synced 5 W&B file(s), 0 media file(s), 0 artifact file(s) and 0 other file(s)"
      ],
      "text/plain": [
       "<IPython.core.display.HTML object>"
      ]
     },
     "metadata": {},
     "output_type": "display_data"
    },
    {
     "data": {
      "text/html": [
       "Find logs at: <code>./wandb/run-20240404_202623-wdyubsyg/logs</code>"
      ],
      "text/plain": [
       "<IPython.core.display.HTML object>"
      ]
     },
     "metadata": {},
     "output_type": "display_data"
    },
    {
     "data": {
      "text/html": [
       "Successfully finished last run (ID:wdyubsyg). Initializing new run:<br/>"
      ],
      "text/plain": [
       "<IPython.core.display.HTML object>"
      ]
     },
     "metadata": {},
     "output_type": "display_data"
    },
    {
     "data": {
      "text/html": [
       "Tracking run with wandb version 0.16.6"
      ],
      "text/plain": [
       "<IPython.core.display.HTML object>"
      ]
     },
     "metadata": {},
     "output_type": "display_data"
    },
    {
     "data": {
      "text/html": [
       "Run data is saved locally in <code>/content/wandb/run-20240404_202949-prf7jjhc</code>"
      ],
      "text/plain": [
       "<IPython.core.display.HTML object>"
      ]
     },
     "metadata": {},
     "output_type": "display_data"
    },
    {
     "data": {
      "text/html": [
       "Syncing run <strong><a href='https://wandb.ai/hy96161/Lab2/runs/prf7jjhc' target=\"_blank\">kind-snowball-2</a></strong> to <a href='https://wandb.ai/hy96161/Lab2' target=\"_blank\">Weights & Biases</a> (<a href='https://wandb.me/run' target=\"_blank\">docs</a>)<br/>"
      ],
      "text/plain": [
       "<IPython.core.display.HTML object>"
      ]
     },
     "metadata": {},
     "output_type": "display_data"
    },
    {
     "data": {
      "text/html": [
       " View project at <a href='https://wandb.ai/hy96161/Lab2' target=\"_blank\">https://wandb.ai/hy96161/Lab2</a>"
      ],
      "text/plain": [
       "<IPython.core.display.HTML object>"
      ]
     },
     "metadata": {},
     "output_type": "display_data"
    },
    {
     "data": {
      "text/html": [
       " View run at <a href='https://wandb.ai/hy96161/Lab2/runs/prf7jjhc' target=\"_blank\">https://wandb.ai/hy96161/Lab2/runs/prf7jjhc</a>"
      ],
      "text/plain": [
       "<IPython.core.display.HTML object>"
      ]
     },
     "metadata": {},
     "output_type": "display_data"
    },
    {
     "data": {
      "text/html": [
       "<button onClick=\"this.nextSibling.style.display='block';this.style.display='none';\">Display W&B run</button><iframe src='https://wandb.ai/hy96161/Lab2/runs/prf7jjhc?jupyter=true' style='border:none;width:100%;height:420px;display:none;'></iframe>"
      ],
      "text/plain": [
       "<wandb.sdk.wandb_run.Run at 0x7cda3e6a8ee0>"
      ]
     },
     "execution_count": 214,
     "metadata": {},
     "output_type": "execute_result"
    }
   ],
   "source": [
    "import wandb\n",
    "wandb.login()\n",
    "wandb.init(project=\"Lab2\")"
   ]
  },
  {
   "cell_type": "markdown",
   "metadata": {
    "id": "lpOq1zSFV6F2"
   },
   "source": []
  },
  {
   "cell_type": "code",
   "execution_count": null,
   "metadata": {
    "id": "ow6JWCfg3Zw_"
   },
   "outputs": [],
   "source": [
    "num_epochs = args['epochs']\n",
    "num_iter = 0\n",
    "for epoch in range(num_epochs):  # loop over the dataset multiple times\n",
    "    model, num_iter = train(trainloader, model, optimizer, criterion, epoch, num_iter, device = args['device'])\n",
    "    acc = test(testloader, model, device = args['device'])\n",
    "    wandb.log({'num_iter': num_iter, \"test_acc\": acc})\n",
    "    print(f'Test Accuracy: {100 * acc} %')"
   ]
  }
 ],
 "metadata": {
  "colab": {
   "provenance": [],
   "toc_visible": true
  },
  "kernelspec": {
   "display_name": "Python 3",
   "language": "python",
   "name": "python3"
  },
  "language_info": {
   "codemirror_mode": {
    "name": "ipython",
    "version": 3
   },
   "file_extension": ".py",
   "mimetype": "text/x-python",
   "name": "python",
   "nbconvert_exporter": "python",
   "pygments_lexer": "ipython3",
   "version": "3.7.3"
  },
  "widgets": {
   "application/vnd.jupyter.widget-state+json": {
    "473bedba98c9432fb6902910be1fefbf": {
     "model_module": "@jupyter-widgets/base",
     "model_module_version": "1.2.0",
     "model_name": "LayoutModel",
     "state": {
      "_model_module": "@jupyter-widgets/base",
      "_model_module_version": "1.2.0",
      "_model_name": "LayoutModel",
      "_view_count": null,
      "_view_module": "@jupyter-widgets/base",
      "_view_module_version": "1.2.0",
      "_view_name": "LayoutView",
      "align_content": null,
      "align_items": null,
      "align_self": null,
      "border": null,
      "bottom": null,
      "display": null,
      "flex": null,
      "flex_flow": null,
      "grid_area": null,
      "grid_auto_columns": null,
      "grid_auto_flow": null,
      "grid_auto_rows": null,
      "grid_column": null,
      "grid_gap": null,
      "grid_row": null,
      "grid_template_areas": null,
      "grid_template_columns": null,
      "grid_template_rows": null,
      "height": null,
      "justify_content": null,
      "justify_items": null,
      "left": null,
      "margin": null,
      "max_height": null,
      "max_width": null,
      "min_height": null,
      "min_width": null,
      "object_fit": null,
      "object_position": null,
      "order": null,
      "overflow": null,
      "overflow_x": null,
      "overflow_y": null,
      "padding": null,
      "right": null,
      "top": null,
      "visibility": null,
      "width": null
     }
    },
    "4d5d11d91c0749c892977b86e8664bd8": {
     "model_module": "@jupyter-widgets/controls",
     "model_module_version": "1.5.0",
     "model_name": "ProgressStyleModel",
     "state": {
      "_model_module": "@jupyter-widgets/controls",
      "_model_module_version": "1.5.0",
      "_model_name": "ProgressStyleModel",
      "_view_count": null,
      "_view_module": "@jupyter-widgets/base",
      "_view_module_version": "1.2.0",
      "_view_name": "StyleView",
      "bar_color": null,
      "description_width": ""
     }
    },
    "88e97d02cafa4926849a0b7319d79c33": {
     "model_module": "@jupyter-widgets/base",
     "model_module_version": "1.2.0",
     "model_name": "LayoutModel",
     "state": {
      "_model_module": "@jupyter-widgets/base",
      "_model_module_version": "1.2.0",
      "_model_name": "LayoutModel",
      "_view_count": null,
      "_view_module": "@jupyter-widgets/base",
      "_view_module_version": "1.2.0",
      "_view_name": "LayoutView",
      "align_content": null,
      "align_items": null,
      "align_self": null,
      "border": null,
      "bottom": null,
      "display": null,
      "flex": null,
      "flex_flow": null,
      "grid_area": null,
      "grid_auto_columns": null,
      "grid_auto_flow": null,
      "grid_auto_rows": null,
      "grid_column": null,
      "grid_gap": null,
      "grid_row": null,
      "grid_template_areas": null,
      "grid_template_columns": null,
      "grid_template_rows": null,
      "height": null,
      "justify_content": null,
      "justify_items": null,
      "left": null,
      "margin": null,
      "max_height": null,
      "max_width": null,
      "min_height": null,
      "min_width": null,
      "object_fit": null,
      "object_position": null,
      "order": null,
      "overflow": null,
      "overflow_x": null,
      "overflow_y": null,
      "padding": null,
      "right": null,
      "top": null,
      "visibility": null,
      "width": null
     }
    },
    "9af598650dcc4e0da56cca8b4185163e": {
     "model_module": "@jupyter-widgets/controls",
     "model_module_version": "1.5.0",
     "model_name": "FloatProgressModel",
     "state": {
      "_dom_classes": [],
      "_model_module": "@jupyter-widgets/controls",
      "_model_module_version": "1.5.0",
      "_model_name": "FloatProgressModel",
      "_view_count": null,
      "_view_module": "@jupyter-widgets/controls",
      "_view_module_version": "1.5.0",
      "_view_name": "ProgressView",
      "bar_style": "",
      "description": "",
      "description_tooltip": null,
      "layout": "IPY_MODEL_a9b7aced0d954afeb7013c214d116c3c",
      "max": 1,
      "min": 0,
      "orientation": "horizontal",
      "style": "IPY_MODEL_4d5d11d91c0749c892977b86e8664bd8",
      "value": 1
     }
    },
    "a9b7aced0d954afeb7013c214d116c3c": {
     "model_module": "@jupyter-widgets/base",
     "model_module_version": "1.2.0",
     "model_name": "LayoutModel",
     "state": {
      "_model_module": "@jupyter-widgets/base",
      "_model_module_version": "1.2.0",
      "_model_name": "LayoutModel",
      "_view_count": null,
      "_view_module": "@jupyter-widgets/base",
      "_view_module_version": "1.2.0",
      "_view_name": "LayoutView",
      "align_content": null,
      "align_items": null,
      "align_self": null,
      "border": null,
      "bottom": null,
      "display": null,
      "flex": null,
      "flex_flow": null,
      "grid_area": null,
      "grid_auto_columns": null,
      "grid_auto_flow": null,
      "grid_auto_rows": null,
      "grid_column": null,
      "grid_gap": null,
      "grid_row": null,
      "grid_template_areas": null,
      "grid_template_columns": null,
      "grid_template_rows": null,
      "height": null,
      "justify_content": null,
      "justify_items": null,
      "left": null,
      "margin": null,
      "max_height": null,
      "max_width": null,
      "min_height": null,
      "min_width": null,
      "object_fit": null,
      "object_position": null,
      "order": null,
      "overflow": null,
      "overflow_x": null,
      "overflow_y": null,
      "padding": null,
      "right": null,
      "top": null,
      "visibility": null,
      "width": null
     }
    },
    "b41553afe7154add9400eebd913ad6d5": {
     "model_module": "@jupyter-widgets/controls",
     "model_module_version": "1.5.0",
     "model_name": "LabelModel",
     "state": {
      "_dom_classes": [],
      "_model_module": "@jupyter-widgets/controls",
      "_model_module_version": "1.5.0",
      "_model_name": "LabelModel",
      "_view_count": null,
      "_view_module": "@jupyter-widgets/controls",
      "_view_module_version": "1.5.0",
      "_view_name": "LabelView",
      "description": "",
      "description_tooltip": null,
      "layout": "IPY_MODEL_88e97d02cafa4926849a0b7319d79c33",
      "placeholder": "​",
      "style": "IPY_MODEL_c9d842c802a14dd2a518574a975dbbac",
      "value": "0.011 MB of 0.011 MB uploaded\r"
     }
    },
    "bb5e3687b0d340a3adaca171dd29baad": {
     "model_module": "@jupyter-widgets/controls",
     "model_module_version": "1.5.0",
     "model_name": "VBoxModel",
     "state": {
      "_dom_classes": [],
      "_model_module": "@jupyter-widgets/controls",
      "_model_module_version": "1.5.0",
      "_model_name": "VBoxModel",
      "_view_count": null,
      "_view_module": "@jupyter-widgets/controls",
      "_view_module_version": "1.5.0",
      "_view_name": "VBoxView",
      "box_style": "",
      "children": [
       "IPY_MODEL_b41553afe7154add9400eebd913ad6d5",
       "IPY_MODEL_9af598650dcc4e0da56cca8b4185163e"
      ],
      "layout": "IPY_MODEL_473bedba98c9432fb6902910be1fefbf"
     }
    },
    "c9d842c802a14dd2a518574a975dbbac": {
     "model_module": "@jupyter-widgets/controls",
     "model_module_version": "1.5.0",
     "model_name": "DescriptionStyleModel",
     "state": {
      "_model_module": "@jupyter-widgets/controls",
      "_model_module_version": "1.5.0",
      "_model_name": "DescriptionStyleModel",
      "_view_count": null,
      "_view_module": "@jupyter-widgets/base",
      "_view_module_version": "1.2.0",
      "_view_name": "StyleView",
      "description_width": ""
     }
    }
   }
  }
 },
 "nbformat": 4,
 "nbformat_minor": 1
}
